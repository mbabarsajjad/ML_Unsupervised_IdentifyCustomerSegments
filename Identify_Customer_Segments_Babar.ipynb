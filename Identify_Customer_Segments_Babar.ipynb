{
 "cells": [
  {
   "cell_type": "markdown",
   "metadata": {},
   "source": [
    "# Project: Identify Customer Segments\n",
    "\n",
    "In this project, you will apply unsupervised learning techniques to identify segments of the population that form the core customer base for a mail-order sales company in Germany. These segments can then be used to direct marketing campaigns towards audiences that will have the highest expected rate of returns. The data that you will use has been provided by our partners at Bertelsmann Arvato Analytics, and represents a real-life data science task.\n",
    "\n",
    "This notebook will help you complete this task by providing a framework within which you will perform your analysis steps. In each step of the project, you will see some text describing the subtask that you will perform, followed by one or more code cells for you to complete your work. **Feel free to add additional code and markdown cells as you go along so that you can explore everything in precise chunks.** The code cells provided in the base template will outline only the major tasks, and will usually not be enough to cover all of the minor tasks that comprise it.\n",
    "\n",
    "It should be noted that while there will be precise guidelines on how you should handle certain tasks in the project, there will also be places where an exact specification is not provided. **There will be times in the project where you will need to make and justify your own decisions on how to treat the data.** These are places where there may not be only one way to handle the data. In real-life tasks, there may be many valid ways to approach an analysis task. One of the most important things you can do is clearly document your approach so that other scientists can understand the decisions you've made.\n",
    "\n",
    "At the end of most sections, there will be a Markdown cell labeled **Discussion**. In these cells, you will report your findings for the completed section, as well as document the decisions that you made in your approach to each subtask. **Your project will be evaluated not just on the code used to complete the tasks outlined, but also your communication about your observations and conclusions at each stage.**"
   ]
  },
  {
   "cell_type": "code",
   "execution_count": 80,
   "metadata": {},
   "outputs": [
    {
     "data": {
      "text/plain": [
       "'\\nImport note: The classroom currently uses sklearn version 0.19.\\nIf you need to use an imputer, it is available in sklearn.preprocessing.Imputer,\\ninstead of sklearn.impute as in newer versions of sklearn.\\n'"
      ]
     },
     "execution_count": 80,
     "metadata": {},
     "output_type": "execute_result"
    }
   ],
   "source": [
    "# import libraries here; add more as necessary\n",
    "import numpy as np\n",
    "import pandas as pd\n",
    "import matplotlib.pyplot as plt\n",
    "import seaborn as sns\n",
    "\n",
    "# magic word for producing visualizations in notebook\n",
    "%matplotlib inline\n",
    "\n",
    "'''\n",
    "Import note: The classroom currently uses sklearn version 0.19.\n",
    "If you need to use an imputer, it is available in sklearn.preprocessing.Imputer,\n",
    "instead of sklearn.impute as in newer versions of sklearn.\n",
    "'''"
   ]
  },
  {
   "cell_type": "markdown",
   "metadata": {},
   "source": [
    "### Step 0: Load the Data\n",
    "\n",
    "There are four files associated with this project (not including this one):\n",
    "\n",
    "- `Udacity_AZDIAS_Subset.csv`: Demographics data for the general population of Germany; 891211 persons (rows) x 85 features (columns).\n",
    "- `Udacity_CUSTOMERS_Subset.csv`: Demographics data for customers of a mail-order company; 191652 persons (rows) x 85 features (columns).\n",
    "- `Data_Dictionary.md`: Detailed information file about the features in the provided datasets.\n",
    "- `AZDIAS_Feature_Summary.csv`: Summary of feature attributes for demographics data; 85 features (rows) x 4 columns\n",
    "\n",
    "Each row of the demographics files represents a single person, but also includes information outside of individuals, including information about their household, building, and neighborhood. You will use this information to cluster the general population into groups with similar demographic properties. Then, you will see how the people in the customers dataset fit into those created clusters. The hope here is that certain clusters are over-represented in the customers data, as compared to the general population; those over-represented clusters will be assumed to be part of the core userbase. This information can then be used for further applications, such as targeting for a marketing campaign.\n",
    "\n",
    "To start off with, load in the demographics data for the general population into a pandas DataFrame, and do the same for the feature attributes summary. Note for all of the `.csv` data files in this project: they're semicolon (`;`) delimited, so you'll need an additional argument in your [`read_csv()`](https://pandas.pydata.org/pandas-docs/stable/generated/pandas.read_csv.html) call to read in the data properly. Also, considering the size of the main dataset, it may take some time for it to load completely.\n",
    "\n",
    "Once the dataset is loaded, it's recommended that you take a little bit of time just browsing the general structure of the dataset and feature summary file. You'll be getting deep into the innards of the cleaning in the first major step of the project, so gaining some general familiarity can help you get your bearings."
   ]
  },
  {
   "cell_type": "code",
   "execution_count": 81,
   "metadata": {},
   "outputs": [],
   "source": [
    "# Load in the general demographics data.\n",
    "azdias = pd.read_csv('Udacity_AZDIAS_Subset.csv', delimiter=';')\n",
    "\n",
    "# Load in the feature summary file.\n",
    "feat_info = pd.read_csv('AZDIAS_Feature_Summary.csv', delimiter=';')"
   ]
  },
  {
   "cell_type": "code",
   "execution_count": 82,
   "metadata": {},
   "outputs": [
    {
     "name": "stdout",
     "output_type": "stream",
     "text": [
      "number of rows and columns - gen. demo. data: (891221, 85)\n",
      "number of rows and columns - feature summary file: (85, 4)\n"
     ]
    }
   ],
   "source": [
    "# Check the structure of the data after it's loaded (e.g. print the number of\n",
    "# rows and columns, print the first few rows).\n",
    "print('number of rows and columns - gen. demo. data:',azdias.shape)\n",
    "print('number of rows and columns - feature summary file:',feat_info.shape)"
   ]
  },
  {
   "cell_type": "code",
   "execution_count": 83,
   "metadata": {},
   "outputs": [
    {
     "data": {
      "text/html": [
       "<div>\n",
       "<style scoped>\n",
       "    .dataframe tbody tr th:only-of-type {\n",
       "        vertical-align: middle;\n",
       "    }\n",
       "\n",
       "    .dataframe tbody tr th {\n",
       "        vertical-align: top;\n",
       "    }\n",
       "\n",
       "    .dataframe thead th {\n",
       "        text-align: right;\n",
       "    }\n",
       "</style>\n",
       "<table border=\"1\" class=\"dataframe\">\n",
       "  <thead>\n",
       "    <tr style=\"text-align: right;\">\n",
       "      <th></th>\n",
       "      <th>AGER_TYP</th>\n",
       "      <th>ALTERSKATEGORIE_GROB</th>\n",
       "      <th>ANREDE_KZ</th>\n",
       "      <th>CJT_GESAMTTYP</th>\n",
       "      <th>FINANZ_MINIMALIST</th>\n",
       "      <th>FINANZ_SPARER</th>\n",
       "      <th>FINANZ_VORSORGER</th>\n",
       "      <th>FINANZ_ANLEGER</th>\n",
       "      <th>FINANZ_UNAUFFAELLIGER</th>\n",
       "      <th>FINANZ_HAUSBAUER</th>\n",
       "      <th>...</th>\n",
       "      <th>PLZ8_ANTG1</th>\n",
       "      <th>PLZ8_ANTG2</th>\n",
       "      <th>PLZ8_ANTG3</th>\n",
       "      <th>PLZ8_ANTG4</th>\n",
       "      <th>PLZ8_BAUMAX</th>\n",
       "      <th>PLZ8_HHZ</th>\n",
       "      <th>PLZ8_GBZ</th>\n",
       "      <th>ARBEIT</th>\n",
       "      <th>ORTSGR_KLS9</th>\n",
       "      <th>RELAT_AB</th>\n",
       "    </tr>\n",
       "  </thead>\n",
       "  <tbody>\n",
       "    <tr>\n",
       "      <th>0</th>\n",
       "      <td>-1</td>\n",
       "      <td>2</td>\n",
       "      <td>1</td>\n",
       "      <td>2.0</td>\n",
       "      <td>3</td>\n",
       "      <td>4</td>\n",
       "      <td>3</td>\n",
       "      <td>5</td>\n",
       "      <td>5</td>\n",
       "      <td>3</td>\n",
       "      <td>...</td>\n",
       "      <td>NaN</td>\n",
       "      <td>NaN</td>\n",
       "      <td>NaN</td>\n",
       "      <td>NaN</td>\n",
       "      <td>NaN</td>\n",
       "      <td>NaN</td>\n",
       "      <td>NaN</td>\n",
       "      <td>NaN</td>\n",
       "      <td>NaN</td>\n",
       "      <td>NaN</td>\n",
       "    </tr>\n",
       "    <tr>\n",
       "      <th>1</th>\n",
       "      <td>-1</td>\n",
       "      <td>1</td>\n",
       "      <td>2</td>\n",
       "      <td>5.0</td>\n",
       "      <td>1</td>\n",
       "      <td>5</td>\n",
       "      <td>2</td>\n",
       "      <td>5</td>\n",
       "      <td>4</td>\n",
       "      <td>5</td>\n",
       "      <td>...</td>\n",
       "      <td>2.0</td>\n",
       "      <td>3.0</td>\n",
       "      <td>2.0</td>\n",
       "      <td>1.0</td>\n",
       "      <td>1.0</td>\n",
       "      <td>5.0</td>\n",
       "      <td>4.0</td>\n",
       "      <td>3.0</td>\n",
       "      <td>5.0</td>\n",
       "      <td>4.0</td>\n",
       "    </tr>\n",
       "    <tr>\n",
       "      <th>2</th>\n",
       "      <td>-1</td>\n",
       "      <td>3</td>\n",
       "      <td>2</td>\n",
       "      <td>3.0</td>\n",
       "      <td>1</td>\n",
       "      <td>4</td>\n",
       "      <td>1</td>\n",
       "      <td>2</td>\n",
       "      <td>3</td>\n",
       "      <td>5</td>\n",
       "      <td>...</td>\n",
       "      <td>3.0</td>\n",
       "      <td>3.0</td>\n",
       "      <td>1.0</td>\n",
       "      <td>0.0</td>\n",
       "      <td>1.0</td>\n",
       "      <td>4.0</td>\n",
       "      <td>4.0</td>\n",
       "      <td>3.0</td>\n",
       "      <td>5.0</td>\n",
       "      <td>2.0</td>\n",
       "    </tr>\n",
       "    <tr>\n",
       "      <th>3</th>\n",
       "      <td>2</td>\n",
       "      <td>4</td>\n",
       "      <td>2</td>\n",
       "      <td>2.0</td>\n",
       "      <td>4</td>\n",
       "      <td>2</td>\n",
       "      <td>5</td>\n",
       "      <td>2</td>\n",
       "      <td>1</td>\n",
       "      <td>2</td>\n",
       "      <td>...</td>\n",
       "      <td>2.0</td>\n",
       "      <td>2.0</td>\n",
       "      <td>2.0</td>\n",
       "      <td>0.0</td>\n",
       "      <td>1.0</td>\n",
       "      <td>3.0</td>\n",
       "      <td>4.0</td>\n",
       "      <td>2.0</td>\n",
       "      <td>3.0</td>\n",
       "      <td>3.0</td>\n",
       "    </tr>\n",
       "    <tr>\n",
       "      <th>4</th>\n",
       "      <td>-1</td>\n",
       "      <td>3</td>\n",
       "      <td>1</td>\n",
       "      <td>5.0</td>\n",
       "      <td>4</td>\n",
       "      <td>3</td>\n",
       "      <td>4</td>\n",
       "      <td>1</td>\n",
       "      <td>3</td>\n",
       "      <td>2</td>\n",
       "      <td>...</td>\n",
       "      <td>2.0</td>\n",
       "      <td>4.0</td>\n",
       "      <td>2.0</td>\n",
       "      <td>1.0</td>\n",
       "      <td>2.0</td>\n",
       "      <td>3.0</td>\n",
       "      <td>3.0</td>\n",
       "      <td>4.0</td>\n",
       "      <td>6.0</td>\n",
       "      <td>5.0</td>\n",
       "    </tr>\n",
       "  </tbody>\n",
       "</table>\n",
       "<p>5 rows × 85 columns</p>\n",
       "</div>"
      ],
      "text/plain": [
       "   AGER_TYP  ALTERSKATEGORIE_GROB  ANREDE_KZ  CJT_GESAMTTYP  \\\n",
       "0        -1                     2          1            2.0   \n",
       "1        -1                     1          2            5.0   \n",
       "2        -1                     3          2            3.0   \n",
       "3         2                     4          2            2.0   \n",
       "4        -1                     3          1            5.0   \n",
       "\n",
       "   FINANZ_MINIMALIST  FINANZ_SPARER  FINANZ_VORSORGER  FINANZ_ANLEGER  \\\n",
       "0                  3              4                 3               5   \n",
       "1                  1              5                 2               5   \n",
       "2                  1              4                 1               2   \n",
       "3                  4              2                 5               2   \n",
       "4                  4              3                 4               1   \n",
       "\n",
       "   FINANZ_UNAUFFAELLIGER  FINANZ_HAUSBAUER    ...     PLZ8_ANTG1  PLZ8_ANTG2  \\\n",
       "0                      5                 3    ...            NaN         NaN   \n",
       "1                      4                 5    ...            2.0         3.0   \n",
       "2                      3                 5    ...            3.0         3.0   \n",
       "3                      1                 2    ...            2.0         2.0   \n",
       "4                      3                 2    ...            2.0         4.0   \n",
       "\n",
       "   PLZ8_ANTG3  PLZ8_ANTG4  PLZ8_BAUMAX  PLZ8_HHZ  PLZ8_GBZ  ARBEIT  \\\n",
       "0         NaN         NaN          NaN       NaN       NaN     NaN   \n",
       "1         2.0         1.0          1.0       5.0       4.0     3.0   \n",
       "2         1.0         0.0          1.0       4.0       4.0     3.0   \n",
       "3         2.0         0.0          1.0       3.0       4.0     2.0   \n",
       "4         2.0         1.0          2.0       3.0       3.0     4.0   \n",
       "\n",
       "   ORTSGR_KLS9  RELAT_AB  \n",
       "0          NaN       NaN  \n",
       "1          5.0       4.0  \n",
       "2          5.0       2.0  \n",
       "3          3.0       3.0  \n",
       "4          6.0       5.0  \n",
       "\n",
       "[5 rows x 85 columns]"
      ]
     },
     "execution_count": 83,
     "metadata": {},
     "output_type": "execute_result"
    }
   ],
   "source": [
    "#print first few rows\n",
    "azdias.head()\n"
   ]
  },
  {
   "cell_type": "code",
   "execution_count": 84,
   "metadata": {},
   "outputs": [],
   "source": [
    "# Loaning Data_Dictionary.md for getting details\n",
    "data_dict = pd.read_table('Data_Dictionary.md')\n",
    "#data_dict"
   ]
  },
  {
   "cell_type": "markdown",
   "metadata": {},
   "source": [
    "> **Tip**: Add additional cells to keep everything in reasonably-sized chunks! Keyboard shortcut `esc --> a` (press escape to enter command mode, then press the 'A' key) adds a new cell before the active cell, and `esc --> b` adds a new cell after the active cell. If you need to convert an active cell to a markdown cell, use `esc --> m` and to convert to a code cell, use `esc --> y`. \n",
    "\n",
    "## Step 1: Preprocessing\n",
    "\n",
    "### Step 1.1: Assess Missing Data\n",
    "\n",
    "The feature summary file contains a summary of properties for each demographics data column. You will use this file to help you make cleaning decisions during this stage of the project. First of all, you should assess the demographics data in terms of missing data. Pay attention to the following points as you perform your analysis, and take notes on what you observe. Make sure that you fill in the **Discussion** cell with your findings and decisions at the end of each step that has one!\n",
    "\n",
    "#### Step 1.1.1: Convert Missing Value Codes to NaNs\n",
    "The fourth column of the feature attributes summary (loaded in above as `feat_info`) documents the codes from the data dictionary that indicate missing or unknown data. While the file encodes this as a list (e.g. `[-1,0]`), this will get read in as a string object. You'll need to do a little bit of parsing to make use of it to identify and clean the data. Convert data that matches a 'missing' or 'unknown' value code into a numpy NaN value. You might want to see how much data takes on a 'missing' or 'unknown' code, and how much data is naturally missing, as a point of interest.\n",
    "\n",
    "**As one more reminder, you are encouraged to add additional cells to break up your analysis into manageable chunks.**"
   ]
  },
  {
   "cell_type": "code",
   "execution_count": 85,
   "metadata": {},
   "outputs": [],
   "source": [
    "# Getting lists of missing/unknown values and for attributes\n",
    "unknowns = feat_info['missing_or_unknown']\n",
    "attributes = feat_info['attribute']\n"
   ]
  },
  {
   "cell_type": "code",
   "execution_count": 86,
   "metadata": {
    "scrolled": true
   },
   "outputs": [
    {
     "name": "stdout",
     "output_type": "stream",
     "text": [
      "85\n",
      "[[-1, 0], [-1, 0, 9], [-1, 0], [0.0], [-1], [-1], [-1], [-1], [-1], [-1], [-1], [0], ['nan'], ['nan'], [-1, 0], [0.0], [0.0], [0.0], [0.0], [0.0], [0.0], [-1, 0], [-1, 0], [0.0], [-1, 9], [-1, 9], [-1, 9], [-1, 9], [-1, 9], [-1, 9], [-1, 9], [-1, 9], [-1, 9], [-1, 9], [-1, 9], [-1, 9], [-1, 9], [-1, 9], [-1], [-1.0], [-1.0, 0.0], [-1], [-1, 9], [0.0], ['nan'], ['nan'], [-1.0, 0.0], [-1.0], [-1.0, 0.0], [-1.0, 0.0], [0.0], ['nan'], [-1.0, 0.0], ['nan'], [0.0], ['-1'], [-1.0], [-1.0, 'X'], ['XX'], [-1.0, 'XX'], [-1.0], [-1.0], [-1.0], [-1.0], [-1.0, 0.0], [-1.0, 0.0], [-1.0], [-1.0], [-1.0], ['nan'], [-1.0, 0.0], ['nan'], ['nan'], [-1.0, 0.0], ['nan'], [-1.0], [-1.0], [-1.0], [-1.0], [-1.0, 0.0], [-1.0], [-1.0], [-1.0, 9.0], [-1.0, 0.0], [-1.0, 9.0]]\n"
     ]
    }
   ],
   "source": [
    "# Remove '[]' and split with ',' and filter based on data types, 2nd check for empty, and then \n",
    "# check for [-1.0, 'X'], ['XX'], [-1.0, 'XX']\n",
    "\n",
    "import string\n",
    "\n",
    "type_is =[]\n",
    "for data in attributes:\n",
    "    type_is.append(azdias[data].dtypes)\n",
    "\n",
    "nan_list = []   # to get the nan check for each attribute\n",
    "unk_list = []   # to save all nan checks for all attributes respectively\n",
    "etc_list = []   # to save -1, X etc.\n",
    "type_index = 0\n",
    "\n",
    "for chks in unknowns:\n",
    "    \n",
    "    \n",
    "    chks = chks.replace('[','').replace(']','').split(',')\n",
    "    \n",
    "    nan_list = chks\n",
    "        \n",
    "    try:\n",
    "        if type_is[type_index] == 'int64':\n",
    "            nan_list = list(map(int, nan_list)) \n",
    "            unk_list.append(nan_list)\n",
    "        \n",
    "        elif type_is[type_index] == 'float64':\n",
    "            nan_list = list(map(float, nan_list)) \n",
    "            unk_list.append(nan_list)\n",
    "        \n",
    "        elif type_is[type_index] == 'O':\n",
    "            \n",
    "            if nan_list == ['XX']:\n",
    "                unk_list.append(['XX'])\n",
    "                \n",
    "            elif nan_list == ['-1']:\n",
    "                unk_list.append(['-1'])\n",
    "\n",
    "            elif '-1' and 'XX' in nan_list:\n",
    "                etc_list = [-1.0, 'XX']\n",
    "                unk_list.append(etc_list)\n",
    "\n",
    "            elif '-1' and 'X' in nan_list:\n",
    "                etc_list = [-1.0, 'X']\n",
    "                unk_list.append(etc_list)\n",
    "        else:\n",
    "            print('fix it!', type_is[type_index], nan_list)\n",
    "    \n",
    "    except:\n",
    "        try:\n",
    "            if nan_list == ['']:\n",
    "                unk_list.append(['nan'])\n",
    "\n",
    "            else:\n",
    "                ('Its something new', nan_list)               \n",
    "                                         \n",
    "        except:\n",
    "            print('exception')\n",
    "            unk_list.append('exception')\n",
    "            \n",
    "    type_index +=1\n",
    "\n",
    "\n",
    "print(len(unk_list))\n",
    "print(unk_list)\n"
   ]
  },
  {
   "cell_type": "code",
   "execution_count": 87,
   "metadata": {},
   "outputs": [],
   "source": [
    "azdias_copy = azdias.copy(deep=True)"
   ]
  },
  {
   "cell_type": "code",
   "execution_count": 42,
   "metadata": {},
   "outputs": [],
   "source": [
    "# Identify missing or unknown data values and convert them to NaNs.\n",
    "\n",
    "u_index = 0\n",
    "nans_all_after = []\n",
    "\n",
    "for x in attributes:\n",
    "    \n",
    "    if ['nan'] != unk_list[u_index]:\n",
    "    \n",
    "        for i in unk_list[u_index]:\n",
    "            if i is not np.nan:\n",
    "                azdias_copy[x] = azdias_copy[x].replace({i:np.nan})\n",
    "\n",
    "    u_index +=1\n",
    "    nans_all_after.append(azdias_copy[x].isna().sum())\n",
    "    \n",
    "    "
   ]
  },
  {
   "cell_type": "code",
   "execution_count": 43,
   "metadata": {},
   "outputs": [
    {
     "name": "stdout",
     "output_type": "stream",
     "text": [
      "Before replacement: 85 [0, 0, 0, 4854, 0, 0, 0, 0, 0, 0, 0, 0, 4854, 0, 0, 4854, 4854, 4854, 4854, 4854, 4854, 0, 0, 4854, 0, 0, 0, 0, 0, 0, 0, 0, 0, 0, 0, 0, 0, 0, 0, 73499, 73499, 0, 0, 73499, 73499, 73499, 18348, 584612, 107602, 73499, 93148, 97008, 93148, 73969, 93148, 93148, 93148, 98979, 98979, 98979, 133324, 133324, 133324, 133324, 133324, 133324, 93740, 93740, 93740, 93155, 121196, 133324, 4854, 121196, 105800, 116515, 116515, 116515, 116515, 116515, 116515, 116515, 97216, 97216, 97216]\n",
      "sum is: 4896838 percenatge is: 6.46414961312\n"
     ]
    }
   ],
   "source": [
    "nan_alls = []\n",
    "for z in attributes:\n",
    "    nan_alls.append(azdias[z].isna().sum())\n",
    "\n",
    "tot_points = azdias.shape[0]*azdias.shape[1]\n",
    "print('Before replacement:',len(nan_alls), nan_alls)\n",
    "print( 'sum is:', sum(nan_alls), 'percenatge is:', (sum(nan_alls)/tot_points)*100 ) "
   ]
  },
  {
   "cell_type": "code",
   "execution_count": 44,
   "metadata": {},
   "outputs": [
    {
     "name": "stdout",
     "output_type": "stream",
     "text": [
      "After replacement: 85 [685843, 2881, 0, 4854, 0, 0, 0, 0, 0, 0, 0, 392318, 4854, 0, 111196, 97632, 94572, 77792, 77792, 4854, 4854, 108315, 108164, 4854, 0, 0, 0, 0, 0, 0, 0, 0, 0, 0, 0, 0, 0, 0, 111196, 73499, 889061, 111196, 0, 310267, 73499, 73499, 18348, 584612, 147988, 73499, 99611, 97008, 93148, 73969, 93148, 93148, 93148, 99352, 99352, 99352, 133324, 133324, 133324, 133324, 476524, 133324, 93740, 93740, 93740, 93155, 158064, 133324, 4854, 158064, 105800, 116515, 116515, 116515, 116515, 116515, 116515, 116515, 97375, 97274, 97375]\n",
      "sum is: 8373929 percenatge is: 11.054139407\n"
     ]
    }
   ],
   "source": [
    "\n",
    "print('After replacement:',len(nans_all_after), nans_all_after)\n",
    "print( 'sum is:', sum(nans_all_after), 'percenatge is:', (sum(nans_all_after)/tot_points)*100 ) "
   ]
  },
  {
   "cell_type": "markdown",
   "metadata": {},
   "source": [
    "#### Step 1.1.2: Assess Missing Data in Each Column\n",
    "\n",
    "How much missing data is present in each column? There are a few columns that are outliers in terms of the proportion of values that are missing. You will want to use matplotlib's [`hist()`](https://matplotlib.org/api/_as_gen/matplotlib.pyplot.hist.html) function to visualize the distribution of missing value counts to find these columns. Identify and document these columns. While some of these columns might have justifications for keeping or re-encoding the data, for this project you should just remove them from the dataframe. (Feel free to make remarks about these outlier columns in the discussion, however!)\n",
    "\n",
    "For the remaining features, are there any patterns in which columns have, or share, missing data?"
   ]
  },
  {
   "cell_type": "code",
   "execution_count": 45,
   "metadata": {
    "scrolled": true
   },
   "outputs": [
    {
     "data": {
      "image/png": "[encoded data removed]",
      "text/plain": [
       "<matplotlib.figure.Figure at 0x7f97becc27f0>"
      ]
     },
     "metadata": {
      "needs_background": "light"
     },
     "output_type": "display_data"
    }
   ],
   "source": [
    "# Perform an assessment of how much missing data there is in each column of the\n",
    "# dataset.\n",
    "\n",
    "x = nans_all_after\n",
    "\n",
    "# the histogram of the data\n",
    "n, bins, patches = plt.hist(x, density=True, facecolor='g', alpha=0.8)\n",
    "\n",
    "\n",
    "plt.xlabel('# of missing data')\n",
    "plt.ylabel('Attributes (columns)')\n",
    "plt.title('Histogram of missing data')\n",
    "plt.grid(True)\n",
    "plt.show()\n",
    "\n"
   ]
  },
  {
   "cell_type": "code",
   "execution_count": 46,
   "metadata": {},
   "outputs": [
    {
     "name": "stdout",
     "output_type": "stream",
     "text": [
      "[43 64 40 47 11  0]\n",
      "Top missing columns: 310267\n",
      "Top missing columns: 476524\n",
      "Top missing columns: 889061\n",
      "Top missing columns: 584612\n",
      "Top missing columns: 392318\n",
      "Top missing columns: 685843\n"
     ]
    }
   ],
   "source": [
    "# Investigate patterns in the amount of missing data in each column.\n",
    "\n",
    "ind = np.argpartition(nans_all_after, -6)[-6:]\n",
    "\n",
    "print(ind)\n",
    "for i in ind:\n",
    "    print('Top missing columns:',nans_all_after[i])"
   ]
  },
  {
   "cell_type": "code",
   "execution_count": 47,
   "metadata": {},
   "outputs": [
    {
     "name": "stdout",
     "output_type": "stream",
     "text": [
      "[0, 11, 40, 43, 47, 64] 6\n"
     ]
    }
   ],
   "source": [
    "# solution 2\n",
    "c_ind_above = np.argwhere(np.asarray(nans_all_after) > 200000)\n",
    "c_ind_above = list(map(int, c_ind_above))\n",
    "print(c_ind_above, len(c_ind_above))"
   ]
  },
  {
   "cell_type": "code",
   "execution_count": 48,
   "metadata": {},
   "outputs": [
    {
     "data": {
      "text/html": [
       "<div>\n",
       "<style scoped>\n",
       "    .dataframe tbody tr th:only-of-type {\n",
       "        vertical-align: middle;\n",
       "    }\n",
       "\n",
       "    .dataframe tbody tr th {\n",
       "        vertical-align: top;\n",
       "    }\n",
       "\n",
       "    .dataframe thead th {\n",
       "        text-align: right;\n",
       "    }\n",
       "</style>\n",
       "<table border=\"1\" class=\"dataframe\">\n",
       "  <thead>\n",
       "    <tr style=\"text-align: right;\">\n",
       "      <th></th>\n",
       "      <th>ALTERSKATEGORIE_GROB</th>\n",
       "      <th>ANREDE_KZ</th>\n",
       "      <th>CJT_GESAMTTYP</th>\n",
       "      <th>FINANZ_MINIMALIST</th>\n",
       "      <th>FINANZ_SPARER</th>\n",
       "      <th>FINANZ_VORSORGER</th>\n",
       "      <th>FINANZ_ANLEGER</th>\n",
       "      <th>FINANZ_UNAUFFAELLIGER</th>\n",
       "      <th>FINANZ_HAUSBAUER</th>\n",
       "      <th>FINANZTYP</th>\n",
       "      <th>...</th>\n",
       "      <th>PLZ8_ANTG1</th>\n",
       "      <th>PLZ8_ANTG2</th>\n",
       "      <th>PLZ8_ANTG3</th>\n",
       "      <th>PLZ8_ANTG4</th>\n",
       "      <th>PLZ8_BAUMAX</th>\n",
       "      <th>PLZ8_HHZ</th>\n",
       "      <th>PLZ8_GBZ</th>\n",
       "      <th>ARBEIT</th>\n",
       "      <th>ORTSGR_KLS9</th>\n",
       "      <th>RELAT_AB</th>\n",
       "    </tr>\n",
       "  </thead>\n",
       "  <tbody>\n",
       "    <tr>\n",
       "      <th>0</th>\n",
       "      <td>2.0</td>\n",
       "      <td>1</td>\n",
       "      <td>2.0</td>\n",
       "      <td>3</td>\n",
       "      <td>4</td>\n",
       "      <td>3</td>\n",
       "      <td>5</td>\n",
       "      <td>5</td>\n",
       "      <td>3</td>\n",
       "      <td>4</td>\n",
       "      <td>...</td>\n",
       "      <td>NaN</td>\n",
       "      <td>NaN</td>\n",
       "      <td>NaN</td>\n",
       "      <td>NaN</td>\n",
       "      <td>NaN</td>\n",
       "      <td>NaN</td>\n",
       "      <td>NaN</td>\n",
       "      <td>NaN</td>\n",
       "      <td>NaN</td>\n",
       "      <td>NaN</td>\n",
       "    </tr>\n",
       "    <tr>\n",
       "      <th>1</th>\n",
       "      <td>1.0</td>\n",
       "      <td>2</td>\n",
       "      <td>5.0</td>\n",
       "      <td>1</td>\n",
       "      <td>5</td>\n",
       "      <td>2</td>\n",
       "      <td>5</td>\n",
       "      <td>4</td>\n",
       "      <td>5</td>\n",
       "      <td>1</td>\n",
       "      <td>...</td>\n",
       "      <td>2.0</td>\n",
       "      <td>3.0</td>\n",
       "      <td>2.0</td>\n",
       "      <td>1.0</td>\n",
       "      <td>1.0</td>\n",
       "      <td>5.0</td>\n",
       "      <td>4.0</td>\n",
       "      <td>3.0</td>\n",
       "      <td>5.0</td>\n",
       "      <td>4.0</td>\n",
       "    </tr>\n",
       "    <tr>\n",
       "      <th>2</th>\n",
       "      <td>3.0</td>\n",
       "      <td>2</td>\n",
       "      <td>3.0</td>\n",
       "      <td>1</td>\n",
       "      <td>4</td>\n",
       "      <td>1</td>\n",
       "      <td>2</td>\n",
       "      <td>3</td>\n",
       "      <td>5</td>\n",
       "      <td>1</td>\n",
       "      <td>...</td>\n",
       "      <td>3.0</td>\n",
       "      <td>3.0</td>\n",
       "      <td>1.0</td>\n",
       "      <td>0.0</td>\n",
       "      <td>1.0</td>\n",
       "      <td>4.0</td>\n",
       "      <td>4.0</td>\n",
       "      <td>3.0</td>\n",
       "      <td>5.0</td>\n",
       "      <td>2.0</td>\n",
       "    </tr>\n",
       "    <tr>\n",
       "      <th>3</th>\n",
       "      <td>4.0</td>\n",
       "      <td>2</td>\n",
       "      <td>2.0</td>\n",
       "      <td>4</td>\n",
       "      <td>2</td>\n",
       "      <td>5</td>\n",
       "      <td>2</td>\n",
       "      <td>1</td>\n",
       "      <td>2</td>\n",
       "      <td>6</td>\n",
       "      <td>...</td>\n",
       "      <td>2.0</td>\n",
       "      <td>2.0</td>\n",
       "      <td>2.0</td>\n",
       "      <td>0.0</td>\n",
       "      <td>1.0</td>\n",
       "      <td>3.0</td>\n",
       "      <td>4.0</td>\n",
       "      <td>2.0</td>\n",
       "      <td>3.0</td>\n",
       "      <td>3.0</td>\n",
       "    </tr>\n",
       "    <tr>\n",
       "      <th>4</th>\n",
       "      <td>3.0</td>\n",
       "      <td>1</td>\n",
       "      <td>5.0</td>\n",
       "      <td>4</td>\n",
       "      <td>3</td>\n",
       "      <td>4</td>\n",
       "      <td>1</td>\n",
       "      <td>3</td>\n",
       "      <td>2</td>\n",
       "      <td>5</td>\n",
       "      <td>...</td>\n",
       "      <td>2.0</td>\n",
       "      <td>4.0</td>\n",
       "      <td>2.0</td>\n",
       "      <td>1.0</td>\n",
       "      <td>2.0</td>\n",
       "      <td>3.0</td>\n",
       "      <td>3.0</td>\n",
       "      <td>4.0</td>\n",
       "      <td>6.0</td>\n",
       "      <td>5.0</td>\n",
       "    </tr>\n",
       "  </tbody>\n",
       "</table>\n",
       "<p>5 rows × 79 columns</p>\n",
       "</div>"
      ],
      "text/plain": [
       "   ALTERSKATEGORIE_GROB  ANREDE_KZ  CJT_GESAMTTYP  FINANZ_MINIMALIST  \\\n",
       "0                   2.0          1            2.0                  3   \n",
       "1                   1.0          2            5.0                  1   \n",
       "2                   3.0          2            3.0                  1   \n",
       "3                   4.0          2            2.0                  4   \n",
       "4                   3.0          1            5.0                  4   \n",
       "\n",
       "   FINANZ_SPARER  FINANZ_VORSORGER  FINANZ_ANLEGER  FINANZ_UNAUFFAELLIGER  \\\n",
       "0              4                 3               5                      5   \n",
       "1              5                 2               5                      4   \n",
       "2              4                 1               2                      3   \n",
       "3              2                 5               2                      1   \n",
       "4              3                 4               1                      3   \n",
       "\n",
       "   FINANZ_HAUSBAUER  FINANZTYP    ...     PLZ8_ANTG1  PLZ8_ANTG2  PLZ8_ANTG3  \\\n",
       "0                 3          4    ...            NaN         NaN         NaN   \n",
       "1                 5          1    ...            2.0         3.0         2.0   \n",
       "2                 5          1    ...            3.0         3.0         1.0   \n",
       "3                 2          6    ...            2.0         2.0         2.0   \n",
       "4                 2          5    ...            2.0         4.0         2.0   \n",
       "\n",
       "   PLZ8_ANTG4  PLZ8_BAUMAX  PLZ8_HHZ  PLZ8_GBZ  ARBEIT  ORTSGR_KLS9  RELAT_AB  \n",
       "0         NaN          NaN       NaN       NaN     NaN          NaN       NaN  \n",
       "1         1.0          1.0       5.0       4.0     3.0          5.0       4.0  \n",
       "2         0.0          1.0       4.0       4.0     3.0          5.0       2.0  \n",
       "3         0.0          1.0       3.0       4.0     2.0          3.0       3.0  \n",
       "4         1.0          2.0       3.0       3.0     4.0          6.0       5.0  \n",
       "\n",
       "[5 rows x 79 columns]"
      ]
     },
     "execution_count": 48,
     "metadata": {},
     "output_type": "execute_result"
    }
   ],
   "source": [
    "# Remove the outlier columns from the dataset. (You'll perform other data\n",
    "# engineering tasks such as re-encoding and imputation later.)\n",
    "\n",
    "columnsData = azdias_copy.iloc[: , ind]\n",
    "columnsData.head()\n",
    "\n",
    "azdias_copy.drop(azdias_copy.columns[ind],axis=1,inplace=True)\n",
    "\n",
    "azdias_copy.head()\n"
   ]
  },
  {
   "cell_type": "markdown",
   "metadata": {},
   "source": [
    "#### Discussion 1.1.2: Assess Missing Data in Each Column\n",
    "\n",
    "It is observed from the histogram and also from the list=nan_replaced that there are 6 coloumns with more than 200k missing values. The removed columns are: AGER_TYP, GEBURTSJAHR, TITEL_KZ, ALTER_HH, KK_KUNDENTYP, KBA05_BAUMAX"
   ]
  },
  {
   "cell_type": "markdown",
   "metadata": {},
   "source": [
    "#### Step 1.1.3: Assess Missing Data in Each Row\n",
    "\n",
    "Now, you'll perform a similar assessment for the rows of the dataset. How much data is missing in each row? As with the columns, you should see some groups of points that have a very different numbers of missing values. Divide the data into two subsets: one for data points that are above some threshold for missing values, and a second subset for points below that threshold.\n",
    "\n",
    "In order to know what to do with the outlier rows, we should see if the distribution of data values on columns that are not missing data (or are missing very little data) are similar or different between the two groups. Select at least five of these columns and compare the distribution of values.\n",
    "- You can use seaborn's [`countplot()`](https://seaborn.pydata.org/generated/seaborn.countplot.html) function to create a bar chart of code frequencies and matplotlib's [`subplot()`](https://matplotlib.org/api/_as_gen/matplotlib.pyplot.subplot.html) function to put bar charts for the two subplots side by side.\n",
    "- To reduce repeated code, you might want to write a function that can perform this comparison, taking as one of its arguments a column to be compared.\n",
    "\n",
    "Depending on what you observe in your comparison, this will have implications on how you approach your conclusions later in the analysis. If the distributions of non-missing features look similar between the data with many missing values and the data with few or no missing values, then we could argue that simply dropping those points from the analysis won't present a major issue. On the other hand, if the data with many missing values looks very different from the data with few or no missing values, then we should make a note on those data as special. We'll revisit these data later on. **Either way, you should continue your analysis for now using just the subset of the data with few or no missing values.**"
   ]
  },
  {
   "cell_type": "code",
   "execution_count": 49,
   "metadata": {},
   "outputs": [
    {
     "name": "stdout",
     "output_type": "stream",
     "text": [
      "Nan in row  0  :  43\n",
      "Nan in row  150000  :  0\n",
      "Nan in row  300000  :  2\n",
      "Nan in row  450000  :  0\n",
      "Nan in row  600000  :  0\n",
      "Nan in row  750000  :  5\n",
      "[43, 0, 0, 7, 0, 0, 0, 0, 0, 0]\n",
      "891221\n"
     ]
    }
   ],
   "source": [
    "# How much data is missing in each row of the dataset?\n",
    "\n",
    "rows_n = []\n",
    "for i in range(len(azdias_copy.index)) :\n",
    "    rows_n.append(azdias_copy.iloc[i].isnull().sum())\n",
    "    if i % 150000 == 0:\n",
    "        print(\"Nan in row \", i , \" : \" ,  rows_n[i])\n",
    "        \n",
    "print(rows_n[:10])\n",
    "print(len(rows_n))\n"
   ]
  },
  {
   "cell_type": "code",
   "execution_count": 50,
   "metadata": {},
   "outputs": [
    {
     "name": "stdout",
     "output_type": "stream",
     "text": [
      "891221 2\n"
     ]
    },
    {
     "data": {
      "image/png": "[encoded data removed]",
      "text/plain": [
       "<matplotlib.figure.Figure at 0x7f97aa686c18>"
      ]
     },
     "metadata": {
      "needs_background": "light"
     },
     "output_type": "display_data"
    }
   ],
   "source": [
    "# Write code to divide the data into two subsets based on the number of missing\n",
    "# values in each row.\n",
    "print(len(rows_n), rows_n[880000])\n",
    "y = rows_n\n",
    "\n",
    "# the histogram of the data\n",
    "n, bins, patches = plt.hist(y, density=True, facecolor='g', alpha=0.8)\n",
    "\n",
    "plt.xlabel('# of missing data')\n",
    "plt.ylabel('Attributes (columns)')\n",
    "plt.title('Histogram of missing data')\n",
    "plt.grid(True)\n",
    "plt.show()\n"
   ]
  },
  {
   "cell_type": "code",
   "execution_count": 51,
   "metadata": {},
   "outputs": [
    {
     "name": "stdout",
     "output_type": "stream",
     "text": [
      "[0, 11, 14, 17, 24, 30, 35, 46, 48, 53] 93795\n",
      "[1, 2, 3, 4, 5, 6, 7, 8, 9, 10] 797077\n"
     ]
    }
   ],
   "source": [
    "# # Write code to divide the data into two subsets based on the number of missing\n",
    "# values in each row.\n",
    "\n",
    "threshold = 20 # interpreted from the histogram\n",
    "\n",
    "r_ind_above = np.argwhere(np.asarray(rows_n) > threshold)\n",
    "r_ind_above = list(map(int, r_ind_above))\n",
    "print(r_ind_above[:10], len(r_ind_above))\n",
    "\n",
    "r_ind_below = list(np.argwhere(np.asarray(rows_n) < threshold))\n",
    "r_ind_below = list(map(int, r_ind_below))\n",
    "print(r_ind_below[:10], len(r_ind_below))"
   ]
  },
  {
   "cell_type": "code",
   "execution_count": 52,
   "metadata": {},
   "outputs": [],
   "source": [
    "azdias_row = azdias_copy.copy(deep=True)"
   ]
  },
  {
   "cell_type": "code",
   "execution_count": 53,
   "metadata": {},
   "outputs": [],
   "source": [
    "azdias_bad = azdias_row.iloc[r_ind_above ,:]\n",
    "azdias_good = azdias_row.iloc[r_ind_below ,:]"
   ]
  },
  {
   "cell_type": "code",
   "execution_count": 54,
   "metadata": {},
   "outputs": [
    {
     "name": "stdout",
     "output_type": "stream",
     "text": [
      "(797077, 79)\n",
      "(93795, 79)\n"
     ]
    }
   ],
   "source": [
    "print(azdias_good.shape)\n",
    "print(azdias_bad.shape)\n"
   ]
  },
  {
   "cell_type": "code",
   "execution_count": 55,
   "metadata": {},
   "outputs": [],
   "source": [
    "feat_info_copy = feat_info.copy(deep=True)"
   ]
  },
  {
   "cell_type": "code",
   "execution_count": 56,
   "metadata": {},
   "outputs": [
    {
     "name": "stdout",
     "output_type": "stream",
     "text": [
      "[43, 64, 40, 47, 11, 0]\n",
      "79\n"
     ]
    }
   ],
   "source": [
    "# dropping unneeded columns from feat_info\n",
    "ind = list(map(int, ind))\n",
    "print(ind)\n",
    "feat_info_copy = feat_info.copy(deep=True)\n",
    "feat_info_copy = feat_info_copy.drop(feat_info_copy.index[ind])\n",
    "print(len(feat_info_copy))"
   ]
  },
  {
   "cell_type": "code",
   "execution_count": 57,
   "metadata": {},
   "outputs": [
    {
     "name": "stdout",
     "output_type": "stream",
     "text": [
      "50\n",
      "42\n",
      "62\n",
      "49\n",
      "0\n",
      "79\n",
      "47\n",
      "['ANZ_HAUSHALTE_AKTIV', 'ZABEOTYP', 'KBA05_ANTG3', 'WOHNDAUER_2008', 'PLZ8_BAUMAX']\n"
     ]
    }
   ],
   "source": [
    "import random\n",
    "randoms = []\n",
    "rand = 0\n",
    "for x in range(7):\n",
    "    rand = random.randint(0, 84)\n",
    "    print(rand)\n",
    "    if rand not in ind and len(randoms) != 5:\n",
    "        randoms.append(feat_info_copy.attribute[rand])\n",
    "print(randoms)"
   ]
  },
  {
   "cell_type": "code",
   "execution_count": 58,
   "metadata": {},
   "outputs": [
    {
     "data": {
      "image/png": "[encoded data removed]",
      "text/plain": [
       "<matplotlib.figure.Figure at 0x7f97a9db40f0>"
      ]
     },
     "metadata": {
      "needs_background": "light"
     },
     "output_type": "display_data"
    },
    {
     "data": {
      "image/png": "[encoded data removed]",
      "text/plain": [
       "<matplotlib.figure.Figure at 0x7f979a2a2f98>"
      ]
     },
     "metadata": {
      "needs_background": "light"
     },
     "output_type": "display_data"
    },
    {
     "data": {
      "image/png": "[encoded data removed]",
      "text/plain": [
       "<matplotlib.figure.Figure at 0x7f97b0b2acc0>"
      ]
     },
     "metadata": {
      "needs_background": "light"
     },
     "output_type": "display_data"
    },
    {
     "data": {
      "image/png": "[encoded data removed]",
      "text/plain": [
       "<matplotlib.figure.Figure at 0x7f97b121d518>"
      ]
     },
     "metadata": {
      "needs_background": "light"
     },
     "output_type": "display_data"
    },
    {
     "data": {
      "image/png": "[encoded data removed]",
      "text/plain": [
       "<matplotlib.figure.Figure at 0x7f97b1157e48>"
      ]
     },
     "metadata": {
      "needs_background": "light"
     },
     "output_type": "display_data"
    }
   ],
   "source": [
    "# Compare the distribution of values for at least five columns where there are\n",
    "# no or few missing values, between the two subsets.\n",
    "\n",
    "def columns_comparison(azdias_good, azdias_bad, randoms):\n",
    "    for i in randoms:\n",
    "        fig, axis = plt.subplots(figsize = (13,2), nrows=1, ncols=2)\n",
    "        sns.countplot(azdias_good[i], ax = axis[0])\n",
    "        sns.countplot(azdias_bad[i], ax = axis[1])\n",
    "        axis[0].set_title('azdias_good < Threshold = 20')\n",
    "        axis[1].set_title('azdias_bad > Threshold = 20')\n",
    "    plt.show()\n",
    "\n",
    "columns_comparison(azdias_good, azdias_bad, randoms)"
   ]
  },
  {
   "cell_type": "markdown",
   "metadata": {},
   "source": [
    "#### Discussion 1.1.3: Assess Missing Data in Each Row\n",
    "\n",
    "missing data in rows: It is observed from the histogram that there are rows with either more than 30 values missing or are less than 20 values missing. Therefore, the threshold value of 20 was used for distributing the data into two subsets.  \n",
    "Are the data with lots of missing values are qualitatively different from data with few or no missing values?: Yes, as there is more data in the columns therefore the distributions look valuable."
   ]
  },
  {
   "cell_type": "markdown",
   "metadata": {},
   "source": [
    "### Step 1.2: Select and Re-Encode Features\n",
    "\n",
    "Checking for missing data isn't the only way in which you can prepare a dataset for analysis. Since the unsupervised learning techniques to be used will only work on data that is encoded numerically, you need to make a few encoding changes or additional assumptions to be able to make progress. In addition, while almost all of the values in the dataset are encoded using numbers, not all of them represent numeric values. Check the third column of the feature summary (`feat_info`) for a summary of types of measurement.\n",
    "- For numeric and interval data, these features can be kept without changes.\n",
    "- Most of the variables in the dataset are ordinal in nature. While ordinal values may technically be non-linear in spacing, make the simplifying assumption that the ordinal variables can be treated as being interval in nature (that is, kept without any changes).\n",
    "- Special handling may be necessary for the remaining two variable types: categorical, and 'mixed'.\n",
    "\n",
    "In the first two parts of this sub-step, you will perform an investigation of the categorical and mixed-type features and make a decision on each of them, whether you will keep, drop, or re-encode each. Then, in the last part, you will create a new data frame with only the selected and engineered columns.\n",
    "\n",
    "Data wrangling is often the trickiest part of the data analysis process, and there's a lot of it to be done here. But stick with it: once you're done with this step, you'll be ready to get to the machine learning parts of the project!"
   ]
  },
  {
   "cell_type": "code",
   "execution_count": 59,
   "metadata": {},
   "outputs": [
    {
     "name": "stdout",
     "output_type": "stream",
     "text": [
      "orignal data: ordinal        49\n",
      "categorical    21\n",
      "numeric         7\n",
      "mixed           7\n",
      "interval        1\n",
      "Name: type, dtype: int64\n",
      "Reduced data: ordinal        49\n",
      "categorical    18\n",
      "numeric         6\n",
      "mixed           6\n",
      "Name: type, dtype: int64\n"
     ]
    }
   ],
   "source": [
    "# How many features are there of each data type?\n",
    "print('orignal data:',feat_info.type.value_counts())\n",
    "print('Reduced data:',feat_info_copy.type.value_counts())"
   ]
  },
  {
   "cell_type": "markdown",
   "metadata": {},
   "source": [
    "#### Step 1.2.1: Re-Encode Categorical Features\n",
    "\n",
    "For categorical data, you would ordinarily need to encode the levels as dummy variables. Depending on the number of categories, perform one of the following:\n",
    "- For binary (two-level) categoricals that take numeric values, you can keep them without needing to do anything.\n",
    "- There is one binary variable that takes on non-numeric values. For this one, you need to re-encode the values as numbers or create a dummy variable.\n",
    "- For multi-level categoricals (three or more values), you can choose to encode the values using multiple dummy variables (e.g. via [OneHotEncoder](http://scikit-learn.org/stable/modules/generated/sklearn.preprocessing.OneHotEncoder.html)), or (to keep things straightforward) just drop them from the analysis. As always, document your choices in the Discussion section."
   ]
  },
  {
   "cell_type": "code",
   "execution_count": 60,
   "metadata": {},
   "outputs": [
    {
     "name": "stdout",
     "output_type": "stream",
     "text": [
      "non-numeric binary - needs re-encoding:\n",
      " W    628695\n",
      "O    168382\n",
      "Name: OST_WEST_KZ, dtype: int64\n",
      "binary: ['ANREDE_KZ', 'GREEN_AVANTGARDE', 'SOHO_KZ', 'VERS_TYP'] 4\n",
      "multi_level:  ['CJT_GESAMTTYP', 'FINANZTYP', 'GFK_URLAUBERTYP', 'LP_FAMILIE_FEIN', 'LP_FAMILIE_GROB', 'LP_STATUS_FEIN', 'LP_STATUS_GROB', 'NATIONALITAET_KZ', 'SHOPPER_TYP', 'ZABEOTYP', 'GEBAEUDETYP', 'CAMEO_DEUG_2015', 'CAMEO_DEU_2015'] 13\n",
      "reencoded:  ['OST_WEST_KZ'] 1\n"
     ]
    }
   ],
   "source": [
    "# Assess categorical variables: which are binary, which are multi-level, and\n",
    "# which one needs to be re-encoded?\n",
    "\n",
    "multi_level = []\n",
    "binary = []\n",
    "reencoded = []\n",
    "\n",
    "categoricals = feat_info_copy[feat_info_copy['type'].str.contains('categorical')]\n",
    "\n",
    "for i in categoricals.attribute:\n",
    "    \n",
    "    if len(azdias_good[i].value_counts()) == 2:\n",
    "        try:\n",
    "            if float(str(azdias_good[i].value_counts())[0]):\n",
    "                binary.append(i)\n",
    "            else:\n",
    "                binary.append(i)\n",
    "        except:\n",
    "            reencoded.append(i)\n",
    "            print('non-numeric binary - needs re-encoding:\\n',azdias_good[i].value_counts())\n",
    "        \n",
    "    \n",
    "    elif len(azdias_good[i].value_counts()) > 2:\n",
    "        multi_level.append(i)\n",
    "        \n",
    "print('binary:', binary, len(binary))\n",
    "print('multi_level: ', multi_level, len(multi_level))\n",
    "print('reencoded: ', reencoded, len(reencoded))"
   ]
  },
  {
   "cell_type": "code",
   "execution_count": 74,
   "metadata": {},
   "outputs": [
    {
     "name": "stderr",
     "output_type": "stream",
     "text": [
      "/opt/conda/lib/python3.6/site-packages/ipykernel_launcher.py:12: SettingWithCopyWarning: \n",
      "A value is trying to be set on a copy of a slice from a DataFrame.\n",
      "Try using .loc[row_indexer,col_indexer] = value instead\n",
      "\n",
      "See the caveats in the documentation: http://pandas.pydata.org/pandas-docs/stable/indexing.html#indexing-view-versus-copy\n",
      "  if sys.path[0] == '':\n"
     ]
    }
   ],
   "source": [
    "# Re-encode the binary variable as numeric to be kept in the analysis.\n",
    "\n",
    "binary_numeric = []\n",
    "\n",
    "for k in azdias_good['OST_WEST_KZ']:\n",
    "    \n",
    "    if k == 'W':\n",
    "        binary_numeric.append(0)\n",
    "    else:\n",
    "        binary_numeric.append(1)\n",
    "\n",
    "azdias_good['OST_WEST_KZ'] = binary_numeric"
   ]
  },
  {
   "cell_type": "code",
   "execution_count": 34,
   "metadata": {},
   "outputs": [],
   "source": [
    "# function for onehot encoding variable(s) to be kept in the analysis.\n",
    "\n",
    "from sklearn.preprocessing import LabelEncoder\n",
    "from sklearn.preprocessing import OneHotEncoder\n",
    "from sklearn.preprocessing import LabelBinarizer\n",
    "\n",
    "\n",
    "label_encoder = LabelEncoder()\n",
    "onehot_encoder = OneHotEncoder(sparse=True)\n",
    "encoder = LabelBinarizer()\n",
    "\n",
    "\n",
    "def onehot_encode(mixed_cols):\n",
    "\n",
    "    integer_encoded = label_encoder.fit_transform(azdias_good[mixed_cols])\n",
    "   \n",
    "    integer_encoded = integer_encoded.reshape(len(integer_encoded), 1)\n",
    "    onehot_encoded = onehot_encoder.fit_transform(integer_encoded)\n",
    "    \n",
    "    \n",
    "    #Y = encoder.fit_transform(mixed_cols)\n",
    "    \n",
    "    #return Y\n",
    "    return onehot_encoded"
   ]
  },
  {
   "cell_type": "code",
   "execution_count": 62,
   "metadata": {},
   "outputs": [],
   "source": [
    "# Re-encode categorical variable(s) to be kept in the analysis.\n",
    "\n",
    "multis = []\n",
    "for i in multi_level:\n",
    "    try:\n",
    "        re_encoded_cols = onehot_encode(i)\n",
    "\n",
    "        for l in re_encoded_cols:\n",
    "            multis.append(list(map(int, l))) \n",
    "\n",
    "        azdias_good.drop(i,axis=1,inplace=True)\n",
    "        azdias_good[i] = multis\n",
    "    \n",
    "    except:\n",
    "        print(i)\n",
    "        \n"
   ]
  },
  {
   "cell_type": "code",
   "execution_count": 101,
   "metadata": {},
   "outputs": [
    {
     "name": "stdout",
     "output_type": "stream",
     "text": [
      "[array([ 1.,  0.,  0.,  0.,  0.,  0.]), array([ 1.,  0.,  0.,  0.,  0.,  0.]), array([ 0.,  0.,  0.,  0.,  0.,  1.]), array([ 0.,  0.,  0.,  0.,  1.,  0.]), array([ 0.,  1.,  0.,  0.,  0.,  0.]), array([ 0.,  0.,  0.,  1.,  0.,  0.]), array([ 0.,  0.,  0.,  0.,  1.,  0.]), array([ 0.,  0.,  0.,  0.,  0.,  1.]), array([ 1.,  0.,  0.,  0.,  0.,  0.]), array([ 0.,  0.,  0.,  0.,  0.,  1.])]\n",
      "[[1, 0, 0, 0, 0, 0], [1, 0, 0, 0, 0, 0], [0, 0, 0, 0, 0, 1], [0, 0, 0, 0, 1, 0], [0, 1, 0, 0, 0, 0], [0, 0, 0, 1, 0, 0], [0, 0, 0, 0, 1, 0], [0, 0, 0, 0, 0, 1], [1, 0, 0, 0, 0, 0], [0, 0, 0, 0, 0, 1]]\n"
     ]
    }
   ],
   "source": [
    "# investigating the use of onehotencoder\n",
    "yo =[]\n",
    "print(list(re_encoded_cols)[:10])\n",
    "for l in re_encoded_cols:\n",
    "    yo.append(list(map(int, l))) \n",
    "print(yo[:10])"
   ]
  },
  {
   "cell_type": "markdown",
   "metadata": {},
   "source": [
    "#### Discussion 1.2.1: Re-Encode Categorical Features\n",
    "\n",
    "Binary data is kept whereas the non numeric two state data is replaced by numeric binary data. For multi-level data, onehotencoder is investigated, there was some success but mostly there were memory issues therefore it is decided the remove it from the dataframe."
   ]
  },
  {
   "cell_type": "markdown",
   "metadata": {},
   "source": [
    "#### Step 1.2.2: Engineer Mixed-Type Features\n",
    "\n",
    "There are a handful of features that are marked as \"mixed\" in the feature summary that require special treatment in order to be included in the analysis. There are two in particular that deserve attention; the handling of the rest are up to your own choices:\n",
    "- \"PRAEGENDE_JUGENDJAHRE\" combines information on three dimensions: generation by decade, movement (mainstream vs. avantgarde), and nation (east vs. west). While there aren't enough levels to disentangle east from west, you should create two new variables to capture the other two dimensions: an interval-type variable for decade, and a binary variable for movement.\n",
    "- \"CAMEO_INTL_2015\" combines information on two axes: wealth and life stage. Break up the two-digit codes by their 'tens'-place and 'ones'-place digits into two new ordinal variables (which, for the purposes of this project, is equivalent to just treating them as their raw numeric values).\n",
    "- If you decide to keep or engineer new features around the other mixed-type features, make sure you note your steps in the Discussion section.\n",
    "\n",
    "Be sure to check `Data_Dictionary.md` for the details needed to finish these tasks."
   ]
  },
  {
   "cell_type": "code",
   "execution_count": 62,
   "metadata": {},
   "outputs": [],
   "source": [
    "# Investigate \"PRAEGENDE_JUGENDJAHRE\" and engineer two new variables.\n",
    "\n",
    "avant = [2, 4, 6, 7, 9, 11, 13, 15]\n",
    "decade = []\n",
    "movement = []\n",
    "\n",
    "for i in azdias_good['PRAEGENDE_JUGENDJAHRE']:\n",
    "    if i in avant:\n",
    "        movement.append(0)\n",
    "    else:\n",
    "        movement.append(1)\n",
    "\n",
    "# for decade: 1-2,3-4,5-7,8-9,10-13, 14-15\n",
    "\n",
    "for j in azdias_good['PRAEGENDE_JUGENDJAHRE']:\n",
    "    if j in [1,2]:\n",
    "        decade.append(0)\n",
    "    elif j in [3,4]:\n",
    "        decade.append(1)\n",
    "    elif j in range(5, 8):\n",
    "        decade.append(2)\n",
    "    elif j in [8,9]:\n",
    "        decade.append(3)\n",
    "    elif j in range(10, 14):\n",
    "        decade.append(4)\n",
    "    elif j in [14,15]:\n",
    "        decade.append(5)\n",
    "    else:\n",
    "        decade.append(np.nan)\n"
   ]
  },
  {
   "cell_type": "code",
   "execution_count": 64,
   "metadata": {},
   "outputs": [],
   "source": [
    "# Investigate \"CAMEO_INTL_2015\" and engineer two new variables.\n",
    "\n",
    "wealth = []\n",
    "life = []\n",
    "\n",
    "for i in azdias_good['CAMEO_INTL_2015']:\n",
    "    if i is not np.nan:\n",
    "        wealth.append(str(i)[0])\n",
    "        life.append(str(i)[1])\n",
    "    else:\n",
    "        wealth.append(np.nan)\n",
    "        life.append(np.nan)\n",
    "    "
   ]
  },
  {
   "cell_type": "code",
   "execution_count": 65,
   "metadata": {},
   "outputs": [
    {
     "name": "stderr",
     "output_type": "stream",
     "text": [
      "/opt/conda/lib/python3.6/site-packages/ipykernel_launcher.py:7: SettingWithCopyWarning: \n",
      "A value is trying to be set on a copy of a slice from a DataFrame.\n",
      "Try using .loc[row_indexer,col_indexer] = value instead\n",
      "\n",
      "See the caveats in the documentation: http://pandas.pydata.org/pandas-docs/stable/indexing.html#indexing-view-versus-copy\n",
      "  import sys\n",
      "/opt/conda/lib/python3.6/site-packages/ipykernel_launcher.py:8: SettingWithCopyWarning: \n",
      "A value is trying to be set on a copy of a slice from a DataFrame.\n",
      "Try using .loc[row_indexer,col_indexer] = value instead\n",
      "\n",
      "See the caveats in the documentation: http://pandas.pydata.org/pandas-docs/stable/indexing.html#indexing-view-versus-copy\n",
      "  \n",
      "/opt/conda/lib/python3.6/site-packages/ipykernel_launcher.py:9: SettingWithCopyWarning: \n",
      "A value is trying to be set on a copy of a slice from a DataFrame.\n",
      "Try using .loc[row_indexer,col_indexer] = value instead\n",
      "\n",
      "See the caveats in the documentation: http://pandas.pydata.org/pandas-docs/stable/indexing.html#indexing-view-versus-copy\n",
      "  if __name__ == '__main__':\n",
      "/opt/conda/lib/python3.6/site-packages/ipykernel_launcher.py:10: SettingWithCopyWarning: \n",
      "A value is trying to be set on a copy of a slice from a DataFrame.\n",
      "Try using .loc[row_indexer,col_indexer] = value instead\n",
      "\n",
      "See the caveats in the documentation: http://pandas.pydata.org/pandas-docs/stable/indexing.html#indexing-view-versus-copy\n",
      "  # Remove the CWD from sys.path while we load stuff.\n"
     ]
    }
   ],
   "source": [
    "# dropping unengineered/mixed columns including: \"CAMEO_INTL_2015\" and 'PRAEGENDE_JUGENDJAHRE'\n",
    "\n",
    "#azdias_good.drop(['CAMEO_INTL_2015','PRAEGENDE_JUGENDJAHRE'],axis=1)\n",
    "\n",
    "# adding engineered columns: 'CAMEO_INTL_2015_W', 'CAMEO_INTL_2015_L','PRAEGENDE_JUGENDJAHRE_D' and 'PRAEGENDE_JUGENDJAHRE_M'\n",
    "\n",
    "azdias_good['CAMEO_INTL_2015_W'] = wealth\n",
    "azdias_good['CAMEO_INTL_2015_L'] = life\n",
    "azdias_good['PRAEGENDE_JUGENDJAHRE_D'] = decade\n",
    "azdias_good['PRAEGENDE_JUGENDJAHRE_M'] = movement\n",
    "\n"
   ]
  },
  {
   "cell_type": "code",
   "execution_count": 66,
   "metadata": {},
   "outputs": [
    {
     "name": "stdout",
     "output_type": "stream",
     "text": [
      "15      LP_LEBENSPHASE_FEIN\n",
      "16      LP_LEBENSPHASE_GROB\n",
      "22    PRAEGENDE_JUGENDJAHRE\n",
      "56                 WOHNLAGE\n",
      "59          CAMEO_INTL_2015\n",
      "79              PLZ8_BAUMAX\n",
      "Name: attribute, dtype: object\n"
     ]
    },
    {
     "name": "stderr",
     "output_type": "stream",
     "text": [
      "/opt/conda/lib/python3.6/site-packages/pandas/core/frame.py:3697: SettingWithCopyWarning: \n",
      "A value is trying to be set on a copy of a slice from a DataFrame\n",
      "\n",
      "See the caveats in the documentation: http://pandas.pydata.org/pandas-docs/stable/indexing.html#indexing-view-versus-copy\n",
      "  errors=errors)\n"
     ]
    }
   ],
   "source": [
    "mixed = feat_info_copy[feat_info_copy['type'].str.contains('mixed')]\n",
    "print(mixed.attribute)\n",
    "for i in mixed.attribute:\n",
    "    azdias_bad.drop(i,axis=1,inplace=True)"
   ]
  },
  {
   "cell_type": "markdown",
   "metadata": {},
   "source": [
    "#### Discussion 1.2.2: Engineer Mixed-Type Features\n",
    "\n",
    "For the mixed valued features:'CAMEO_INTL_2015','PRAEGENDE_JUGENDJAHRE', the original columns are removed from the dataframe and the new four engineered columns are added."
   ]
  },
  {
   "cell_type": "markdown",
   "metadata": {},
   "source": [
    "#### Step 1.2.3: Complete Feature Selection\n",
    "\n",
    "In order to finish this step up, you need to make sure that your data frame now only has the columns that you want to keep. To summarize, the dataframe should consist of the following:\n",
    "- All numeric, interval, and ordinal type columns from the original dataset.\n",
    "- Binary categorical features (all numerically-encoded).\n",
    "- Engineered features from other multi-level categorical features and mixed features.\n",
    "\n",
    "Make sure that for any new columns that you have engineered, that you've excluded the original columns from the final dataset. Otherwise, their values will interfere with the analysis later on the project. For example, you should not keep \"PRAEGENDE_JUGENDJAHRE\", since its values won't be useful for the algorithm: only the values derived from it in the engineered features you created should be retained. As a reminder, your data should only be from **the subset with few or no missing values**."
   ]
  },
  {
   "cell_type": "code",
   "execution_count": null,
   "metadata": {},
   "outputs": [],
   "source": [
    "# If there are other re-engineering tasks you need to perform, make sure you\n",
    "# take care of them here. (Dealing with missing data will come in step 2.1.)\n",
    "\n"
   ]
  },
  {
   "cell_type": "code",
   "execution_count": 67,
   "metadata": {},
   "outputs": [
    {
     "name": "stderr",
     "output_type": "stream",
     "text": [
      "/opt/conda/lib/python3.6/site-packages/pandas/core/frame.py:3697: SettingWithCopyWarning: \n",
      "A value is trying to be set on a copy of a slice from a DataFrame\n",
      "\n",
      "See the caveats in the documentation: http://pandas.pydata.org/pandas-docs/stable/indexing.html#indexing-view-versus-copy\n",
      "  errors=errors)\n"
     ]
    }
   ],
   "source": [
    "# Do whatever you need to in order to ensure that the dataframe only contains\n",
    "# the columns that should be passed to the algorithm functions.\n",
    "\n",
    "azdias_good.drop(multi_level,axis=1,inplace=True)\n"
   ]
  },
  {
   "cell_type": "markdown",
   "metadata": {},
   "source": [
    "### Step 1.3: Create a Cleaning Function\n",
    "\n",
    "Even though you've finished cleaning up the general population demographics data, it's important to look ahead to the future and realize that you'll need to perform the same cleaning steps on the customer demographics data. In this substep, complete the function below to execute the main feature selection, encoding, and re-engineering steps you performed above. Then, when it comes to looking at the customer data in Step 3, you can just run this function on that DataFrame to get the trimmed dataset in a single step."
   ]
  },
  {
   "cell_type": "code",
   "execution_count": 68,
   "metadata": {},
   "outputs": [],
   "source": [
    "def clean_data(df):\n",
    "    \"\"\"\n",
    "    Perform feature trimming, re-encoding, and engineering for demographics\n",
    "    data\n",
    "    \n",
    "    INPUT: Demographics DataFrame\n",
    "    OUTPUT: Trimmed and cleaned demographics DataFrame\n",
    "    \"\"\"\n",
    "    \n",
    "    # Put in code here to execute all main cleaning steps:\n",
    "    # convert missing value codes into NaNs, ...\n",
    "    \n",
    "    u_index = 0\n",
    "    nans_all_after = []\n",
    "\n",
    "    for x in attributes:\n",
    "\n",
    "        if ['nan'] != unk_list[u_index]:\n",
    "\n",
    "            for i in unk_list[u_index]:\n",
    "                if i is not np.nan:\n",
    "                    df[x] = df[x].replace({i:np.nan})\n",
    "\n",
    "        u_index +=1\n",
    "        nans_all_after.append(df[x].isna().sum())\n",
    "    \n",
    "    \n",
    "    # remove selected columns and rows, ...\n",
    "    # removing columns...\n",
    "    c_ind_above = np.argwhere(np.asarray(nans_all_after) > 200000)\n",
    "    c_ind_above = list(map(int, c_ind_above))\n",
    "    print(c_ind_above, len(c_ind_above))\n",
    "    \n",
    "    columnsData = df.iloc[: , c_ind_above]\n",
    "    \n",
    "    df.drop(df.columns[c_ind_above],axis=1,inplace=True)\n",
    "    \n",
    "    # removing rows...\n",
    "    rows_n = []\n",
    "    for i in range(len(df.index)) :\n",
    "        rows_n.append(df.iloc[i].isnull().sum())\n",
    "        if i % 150000 == 0:\n",
    "            print(\"Nan in row \", i , \" : \" ,  rows_n[i])\n",
    " \n",
    "    threshold = 10 # interpreted from the histogram\n",
    "\n",
    "    r_ind_above = np.argwhere(np.asarray(rows_n) > threshold)\n",
    "    r_ind_above = list(map(int, r_ind_above))\n",
    "\n",
    "    r_ind_below = list(np.argwhere(np.asarray(rows_n) < threshold))\n",
    "    r_ind_below = list(map(int, r_ind_below))\n",
    "    \n",
    "    df_bad = df.iloc[r_ind_above ,:]\n",
    "    df_good = df.iloc[r_ind_below ,:]\n",
    "     \n",
    "    # select, re-encode, and engineer column values.\n",
    "    # selecting...\n",
    "\n",
    "    multi_level = []\n",
    "    binary = []\n",
    "    reencoded = []\n",
    "\n",
    "    feat_info_copy = feat_info.copy(deep=True)\n",
    "    feat_info_copy = feat_info_copy.drop(feat_info_copy.index[c_ind_above])\n",
    "\n",
    "    categoricals = feat_info_copy[feat_info_copy['type'].str.contains('categorical')]\n",
    "\n",
    "    for i in categoricals.attribute:\n",
    "\n",
    "        if len(df_good[i].value_counts()) == 2:\n",
    "            try:\n",
    "                if float(str(df_good[i].value_counts())[0]):\n",
    "                    binary.append(i)\n",
    "                else:\n",
    "                    binary.append(i)\n",
    "            except:\n",
    "                reencoded.append(i)\n",
    "                print('non-numeric binary - needs re-encoding:\\n',df_good[i].value_counts())\n",
    "\n",
    "\n",
    "        elif len(df_good[i].value_counts()) > 2:\n",
    "            multi_level.append(i)\n",
    "\n",
    "    print('binary:', binary, len(binary))\n",
    "    print('multi_level: ', multi_level, len(multi_level))\n",
    "    print('reencoded: ', reencoded, len(reencoded))\n",
    "    \n",
    "    # dropping multi-level columns...\n",
    "    \n",
    "    df_good.drop(multi_level,axis=1,inplace=True)\n",
    "    \n",
    "    # reencode and engineering...\n",
    "    \n",
    "    binary_numeric = []\n",
    "\n",
    "    for k in df_good['OST_WEST_KZ']:\n",
    "        if k == 'W':\n",
    "            binary_numeric.append(0)\n",
    "        else:\n",
    "            binary_numeric.append(1)\n",
    "    \n",
    "    df_good.drop(['OST_WEST_KZ'],axis=1)\n",
    "    df_good['OST_WEST_KZ'] = binary_numeric\n",
    "    \n",
    "    # Investigate \"PRAEGENDE_JUGENDJAHRE\" and engineer two new variables.\n",
    "\n",
    "    avant = [2, 4, 6, 7, 9, 11, 13, 15]\n",
    "    decade = []\n",
    "    movement = []\n",
    "\n",
    "    for i in df_good['PRAEGENDE_JUGENDJAHRE']:\n",
    "        if i in avant:\n",
    "            movement.append(0)\n",
    "        else:\n",
    "            movement.append(1)\n",
    "    \n",
    "    #df_good['PRAEGENDE_JUGENDJAHRE_M'] = movement\n",
    "\n",
    "    \n",
    "    # for decade: 1-2,3-4,5-7,8-9,10-13, 14-15\n",
    "\n",
    "    for j in df_good['PRAEGENDE_JUGENDJAHRE']:\n",
    "        if j in [1,2]:\n",
    "            decade.append(0)\n",
    "        elif j in [3,4]:\n",
    "            decade.append(1)\n",
    "        elif j in range(5, 8):\n",
    "            decade.append(2)\n",
    "        elif j in [8,9]:\n",
    "            decade.append(3)\n",
    "        elif j in range(10, 14):\n",
    "            decade.append(4)\n",
    "        elif j in [14,15]:\n",
    "            decade.append(5)\n",
    "        else:\n",
    "            decade.append(np.nan)\n",
    "\n",
    "            \n",
    "    # Investigate \"CAMEO_INTL_2015\" and engineer two new variables.\n",
    "\n",
    "    wealth = []\n",
    "    life = []\n",
    "\n",
    "    for i in df_good['CAMEO_INTL_2015']:\n",
    "        if i is not np.nan:\n",
    "            wealth.append(str(i)[0])\n",
    "            life.append(str(i)[1])\n",
    "        else:\n",
    "            wealth.append(np.nan)\n",
    "            life.append(np.nan)\n",
    "        \n",
    "    # adding engineered columns: 'CAMEO_INTL_2015_W', 'CAMEO_INTL_2015_L','PRAEGENDE_JUGENDJAHRE_D' and 'PRAEGENDE_JUGENDJAHRE_M'\n",
    "\n",
    "    df_good['CAMEO_INTL_2015_W'] = wealth\n",
    "    df_good['CAMEO_INTL_2015_L'] = life\n",
    "    df_good['PRAEGENDE_JUGENDJAHRE_D'] = decade\n",
    "    df_good['PRAEGENDE_JUGENDJAHRE_M'] = movement\n",
    "    \n",
    "    # dropping unengineered columns: \"CAMEO_INTL_2015\" and 'PRAEGENDE_JUGENDJAHRE' and all other mixed as well\n",
    "    \n",
    "    mixed = feat_info_copy[feat_info_copy['type'].str.contains('mixed')]\n",
    "    for i in mixed.attribute:\n",
    "        df_good.drop(i,axis=1,inplace=True)\n",
    "    \n",
    "\n",
    "    # Return the cleaned dataframe.\n",
    "    return(df_good)\n",
    "      "
   ]
  },
  {
   "cell_type": "code",
   "execution_count": 89,
   "metadata": {},
   "outputs": [
    {
     "name": "stdout",
     "output_type": "stream",
     "text": [
      "[0, 11, 40, 43, 47, 64] 6\n",
      "Nan in row  0  :  43\n",
      "Nan in row  150000  :  0\n",
      "Nan in row  300000  :  2\n",
      "Nan in row  450000  :  0\n",
      "Nan in row  600000  :  0\n",
      "Nan in row  750000  :  5\n",
      "non-numeric binary - needs re-encoding:\n",
      " W    610258\n",
      "O    164485\n",
      "Name: OST_WEST_KZ, dtype: int64\n",
      "binary: ['ANREDE_KZ', 'GREEN_AVANTGARDE', 'SOHO_KZ', 'VERS_TYP'] 4\n",
      "multi_level:  ['CJT_GESAMTTYP', 'FINANZTYP', 'GFK_URLAUBERTYP', 'LP_FAMILIE_FEIN', 'LP_FAMILIE_GROB', 'LP_STATUS_FEIN', 'LP_STATUS_GROB', 'NATIONALITAET_KZ', 'SHOPPER_TYP', 'ZABEOTYP', 'GEBAEUDETYP', 'CAMEO_DEUG_2015', 'CAMEO_DEU_2015'] 13\n",
      "reencoded:  ['OST_WEST_KZ'] 1\n"
     ]
    },
    {
     "name": "stderr",
     "output_type": "stream",
     "text": [
      "/opt/conda/lib/python3.6/site-packages/pandas/core/frame.py:3697: SettingWithCopyWarning: \n",
      "A value is trying to be set on a copy of a slice from a DataFrame\n",
      "\n",
      "See the caveats in the documentation: http://pandas.pydata.org/pandas-docs/stable/indexing.html#indexing-view-versus-copy\n",
      "  errors=errors)\n",
      "/opt/conda/lib/python3.6/site-packages/ipykernel_launcher.py:103: SettingWithCopyWarning: \n",
      "A value is trying to be set on a copy of a slice from a DataFrame.\n",
      "Try using .loc[row_indexer,col_indexer] = value instead\n",
      "\n",
      "See the caveats in the documentation: http://pandas.pydata.org/pandas-docs/stable/indexing.html#indexing-view-versus-copy\n",
      "/opt/conda/lib/python3.6/site-packages/ipykernel_launcher.py:154: SettingWithCopyWarning: \n",
      "A value is trying to be set on a copy of a slice from a DataFrame.\n",
      "Try using .loc[row_indexer,col_indexer] = value instead\n",
      "\n",
      "See the caveats in the documentation: http://pandas.pydata.org/pandas-docs/stable/indexing.html#indexing-view-versus-copy\n",
      "/opt/conda/lib/python3.6/site-packages/ipykernel_launcher.py:155: SettingWithCopyWarning: \n",
      "A value is trying to be set on a copy of a slice from a DataFrame.\n",
      "Try using .loc[row_indexer,col_indexer] = value instead\n",
      "\n",
      "See the caveats in the documentation: http://pandas.pydata.org/pandas-docs/stable/indexing.html#indexing-view-versus-copy\n",
      "/opt/conda/lib/python3.6/site-packages/ipykernel_launcher.py:156: SettingWithCopyWarning: \n",
      "A value is trying to be set on a copy of a slice from a DataFrame.\n",
      "Try using .loc[row_indexer,col_indexer] = value instead\n",
      "\n",
      "See the caveats in the documentation: http://pandas.pydata.org/pandas-docs/stable/indexing.html#indexing-view-versus-copy\n",
      "/opt/conda/lib/python3.6/site-packages/ipykernel_launcher.py:157: SettingWithCopyWarning: \n",
      "A value is trying to be set on a copy of a slice from a DataFrame.\n",
      "Try using .loc[row_indexer,col_indexer] = value instead\n",
      "\n",
      "See the caveats in the documentation: http://pandas.pydata.org/pandas-docs/stable/indexing.html#indexing-view-versus-copy\n"
     ]
    }
   ],
   "source": [
    "\n",
    "df_new = clean_data(azdias)\n"
   ]
  },
  {
   "cell_type": "markdown",
   "metadata": {},
   "source": [
    "## Step 2: Feature Transformation\n",
    "\n",
    "### Step 2.1: Apply Feature Scaling\n",
    "\n",
    "Before we apply dimensionality reduction techniques to the data, we need to perform feature scaling so that the principal component vectors are not influenced by the natural differences in scale for features. Starting from this part of the project, you'll want to keep an eye on the [API reference page for sklearn](http://scikit-learn.org/stable/modules/classes.html) to help you navigate to all of the classes and functions that you'll need. In this substep, you'll need to check the following:\n",
    "\n",
    "- sklearn requires that data not have missing values in order for its estimators to work properly. So, before applying the scaler to your data, make sure that you've cleaned the DataFrame of the remaining missing values. This can be as simple as just removing all data points with missing data, or applying an [Imputer](http://scikit-learn.org/stable/modules/generated/sklearn.preprocessing.Imputer.html) to replace all missing values. You might also try a more complicated procedure where you temporarily remove missing values in order to compute the scaling parameters before re-introducing those missing values and applying imputation. Think about how much missing data you have and what possible effects each approach might have on your analysis, and justify your decision in the discussion section below.\n",
    "- For the actual scaling function, a [StandardScaler](http://scikit-learn.org/stable/modules/generated/sklearn.preprocessing.StandardScaler.html) instance is suggested, scaling each feature to mean 0 and standard deviation 1.\n",
    "- For these classes, you can make use of the `.fit_transform()` method to both fit a procedure to the data as well as apply the transformation to the data at the same time. Don't forget to keep the fit sklearn objects handy, since you'll be applying them to the customer demographics data towards the end of the project."
   ]
  },
  {
   "cell_type": "code",
   "execution_count": 90,
   "metadata": {},
   "outputs": [],
   "source": [
    "# If you've not yet cleaned the dataset of all NaN values, then investigate and\n",
    "# do that now.\n",
    "from sklearn.preprocessing import Imputer\n",
    "\n",
    "def do_impute(df_new):\n",
    "    df_imputed = df_new.copy(deep=True)\n",
    "\n",
    "    imp_mean = Imputer(missing_values=\"NaN\", strategy=\"most_frequent\", axis = 0)\n",
    "\n",
    "    for i in df_imputed:\n",
    "        if df_imputed[i].isna().sum() != 0:\n",
    "            df_imputed[i] = imp_mean.fit_transform(df_imputed[[i]]).ravel()\n",
    "    \n",
    "    return imp_mean, df_imputed\n",
    "\n",
    "imputer, df_imputed = do_impute(df_new)\n",
    "#imputer, df_imputed = do_impute(azdias_good)"
   ]
  },
  {
   "cell_type": "code",
   "execution_count": 91,
   "metadata": {},
   "outputs": [],
   "source": [
    "# Apply feature scaling to the general population demographics data.\n",
    "\n",
    "from sklearn.preprocessing import StandardScaler\n",
    "\n",
    "def do_scaling(data):\n",
    "    scaler = StandardScaler()\n",
    "    scaled = StandardScaler().fit_transform(data)\n",
    "    return scaler, scaled\n",
    "\n",
    "scaler, df_scaled = do_scaling(df_imputed)"
   ]
  },
  {
   "cell_type": "markdown",
   "metadata": {},
   "source": [
    "## Discussion 2.1: Apply Feature Scaling\n",
    "\n",
    "Two functions are defined here to impute and scale the data."
   ]
  },
  {
   "cell_type": "markdown",
   "metadata": {},
   "source": [
    "### Step 2.2: Perform Dimensionality Reduction\n",
    "\n",
    "On your scaled data, you are now ready to apply dimensionality reduction techniques.\n",
    "\n",
    "- Use sklearn's [PCA](http://scikit-learn.org/stable/modules/generated/sklearn.decomposition.PCA.html) class to apply principal component analysis on the data, thus finding the vectors of maximal variance in the data. To start, you should not set any parameters (so all components are computed) or set a number of components that is at least half the number of features (so there's enough features to see the general trend in variability).\n",
    "- Check out the ratio of variance explained by each principal component as well as the cumulative variance explained. Try plotting the cumulative or sequential values using matplotlib's [`plot()`](https://matplotlib.org/api/_as_gen/matplotlib.pyplot.plot.html) function. Based on what you find, select a value for the number of transformed features you'll retain for the clustering part of the project.\n",
    "- Once you've made a choice for the number of components to keep, make sure you re-fit a PCA instance to perform the decided-on transformation."
   ]
  },
  {
   "cell_type": "code",
   "execution_count": 92,
   "metadata": {},
   "outputs": [],
   "source": [
    "# Apply PCA to the data.\n",
    "\n",
    "from sklearn.decomposition import PCA\n",
    "\n",
    "def do_pca(n_components, data):\n",
    "    '''\n",
    "    Transforms data using PCA to create n_components, and provides back the results of the\n",
    "    transformation.\n",
    "\n",
    "    INPUT: n_components - int - the number of principal components to create\n",
    "           data - the data you would like to transform\n",
    "\n",
    "    OUTPUT: pca - the pca object created after fitting the data\n",
    "            X_pca - the transformed X matrix with new number of components\n",
    "    '''\n",
    "    pca = PCA(n_components)\n",
    "    X_pca = pca.fit_transform(data)\n",
    "    return pca, X_pca\n",
    "\n",
    "#pca, df_pca = do_pca(46, df_scaled)\n"
   ]
  },
  {
   "cell_type": "code",
   "execution_count": 93,
   "metadata": {},
   "outputs": [],
   "source": [
    "# Investigate the variance accounted for by each principal component.\n",
    "def scree_plot(pca):\n",
    "    '''\n",
    "    Creates a scree plot associated with the principal components \n",
    "    \n",
    "    INPUT: pca - the result of instantian of PCA in scikit learn\n",
    "            \n",
    "    OUTPUT:\n",
    "            None\n",
    "    '''\n",
    "    num_components=len(pca.explained_variance_ratio_)\n",
    "    ind = np.arange(num_components)\n",
    "    vals = pca.explained_variance_ratio_\n",
    " \n",
    "    plt.figure(figsize=(15, 6))\n",
    "    ax = plt.subplot(111)\n",
    "    cumvals = np.cumsum(vals)\n",
    "    ax.bar(ind, vals)\n",
    "    ax.plot(ind, cumvals)\n",
    "    for i in range(num_components):\n",
    "        ax.annotate(r\"%s%%\" % ((str(vals[i]*100)[:4])), (ind[i]+0.2, vals[i]), va=\"bottom\", ha=\"center\", fontsize=12)\n",
    " \n",
    "    ax.xaxis.set_tick_params(width=0)\n",
    "    ax.yaxis.set_tick_params(width=2, length=12)\n",
    " \n",
    "    ax.set_xlabel(\"Principal Component\")\n",
    "    ax.set_ylabel(\"Variance Explained (%)\")\n",
    "    plt.title('Explained Variance Per Principal Component')\n",
    "\n",
    "#scree_plot(pca)"
   ]
  },
  {
   "cell_type": "code",
   "execution_count": 94,
   "metadata": {},
   "outputs": [
    {
     "data": {
      "image/png": "[encoded data removed]",
      "text/plain": [
       "<matplotlib.figure.Figure at 0x7f97b1194da0>"
      ]
     },
     "metadata": {
      "needs_background": "light"
     },
     "output_type": "display_data"
    }
   ],
   "source": [
    "# Re-apply PCA to the data while selecting for number of components to retain.\n",
    "\n",
    "pca, df_pca = do_pca(40, df_scaled)\n",
    "scree_plot(pca)"
   ]
  },
  {
   "cell_type": "markdown",
   "metadata": {},
   "source": [
    "### Discussion 2.2: Perform Dimensionality Reduction\n",
    " \n",
    "From the scree plot, it is interpretted that after 40 components there is very less contribution in the amount of variance therefore the number of components are set to 40 for further analysis."
   ]
  },
  {
   "cell_type": "markdown",
   "metadata": {},
   "source": [
    "### Step 2.3: Interpret Principal Components\n",
    "\n",
    "Now that we have our transformed principal components, it's a nice idea to check out the weight of each variable on the first few components to see if they can be interpreted in some fashion.\n",
    "\n",
    "As a reminder, each principal component is a unit vector that points in the direction of highest variance (after accounting for the variance captured by earlier principal components). The further a weight is from zero, the more the principal component is in the direction of the corresponding feature. If two features have large weights of the same sign (both positive or both negative), then increases in one tend expect to be associated with increases in the other. To contrast, features with different signs can be expected to show a negative correlation: increases in one variable should result in a decrease in the other.\n",
    "\n",
    "- To investigate the features, you should map each weight to their corresponding feature name, then sort the features according to weight. The most interesting features for each principal component, then, will be those at the beginning and end of the sorted list. Use the data dictionary document to help you understand these most prominent features, their relationships, and what a positive or negative value on the principal component might indicate.\n",
    "- You should investigate and interpret feature associations from the first three principal components in this substep. To help facilitate this, you should write a function that you can call at any time to print the sorted list of feature weights, for the *i*-th principal component. This might come in handy in the next step of the project, when you interpret the tendencies of the discovered clusters."
   ]
  },
  {
   "cell_type": "code",
   "execution_count": 66,
   "metadata": {},
   "outputs": [
    {
     "name": "stdout",
     "output_type": "stream",
     "text": [
      "PLZ8_ANTG3                 0.238466\n",
      "PLZ8_ANTG4                 0.230409\n",
      "ORTSGR_KLS9                0.211673\n",
      "EWDICHTE                   0.209635\n",
      "HH_EINKOMMEN_SCORE         0.207094\n",
      "FINANZ_HAUSBAUER           0.172582\n",
      "KBA05_ANTG4                0.163030\n",
      "PLZ8_ANTG2                 0.161629\n",
      "ARBEIT                     0.151410\n",
      "ANZ_HAUSHALTE_AKTIV        0.143932\n",
      "KBA05_ANTG3                0.143241\n",
      "FINANZ_SPARER              0.142911\n",
      "RELAT_AB                   0.142818\n",
      "SEMIO_PFLICHT              0.113111\n",
      "PRAEGENDE_JUGENDJAHRE_M    0.111186\n",
      "SEMIO_REL                  0.110001\n",
      "SEMIO_RAT                  0.094260\n",
      "SEMIO_TRADV                0.086518\n",
      "SEMIO_MAT                  0.078296\n",
      "SEMIO_FAM                  0.075678\n",
      "FINANZ_UNAUFFAELLIGER      0.071553\n",
      "SEMIO_KULT                 0.067967\n",
      "FINANZ_ANLEGER             0.062265\n",
      "REGIOTYP                   0.059652\n",
      "OST_WEST_KZ                0.057516\n",
      "SEMIO_KAEM                 0.045284\n",
      "W_KEIT_KIND_HH             0.045055\n",
      "PLZ8_HHZ                   0.044727\n",
      "SEMIO_SOZ                  0.041198\n",
      "ANZ_HH_TITEL               0.038307\n",
      "                             ...   \n",
      "KKK                        0.036518\n",
      "VERS_TYP                   0.034070\n",
      "SEMIO_DOM                  0.027240\n",
      "KBA05_ANTG2                0.012019\n",
      "ANREDE_KZ                  0.010558\n",
      "SEMIO_KRIT                 0.008657\n",
      "SOHO_KZ                   -0.002079\n",
      "ANZ_TITEL                 -0.003464\n",
      "RETOURTYP_BK_S            -0.012354\n",
      "SEMIO_VERT                -0.042732\n",
      "ONLINE_AFFINITAET         -0.050433\n",
      "MIN_GEBAEUDEJAHR          -0.057101\n",
      "WOHNDAUER_2008            -0.061992\n",
      "SEMIO_LUST                -0.071147\n",
      "SEMIO_ERL                 -0.073477\n",
      "KBA13_ANZAHL_PKW          -0.079480\n",
      "ANZ_PERSONEN              -0.084554\n",
      "FINANZ_VORSORGER          -0.109985\n",
      "GREEN_AVANTGARDE          -0.111186\n",
      "ALTERSKATEGORIE_GROB      -0.117362\n",
      "GEBAEUDETYP_RASTER        -0.124092\n",
      "BALLRAUM                  -0.139014\n",
      "PLZ8_GBZ                  -0.175980\n",
      "KONSUMNAEHE               -0.177333\n",
      "INNENSTADT                -0.177483\n",
      "FINANZ_MINIMALIST         -0.225002\n",
      "KBA05_ANTG1               -0.226984\n",
      "KBA05_GBZ                 -0.228213\n",
      "PLZ8_ANTG1                -0.237185\n",
      "MOBI_REGIO                -0.240467\n",
      "Name: 0, Length: 61, dtype: float64\n"
     ]
    }
   ],
   "source": [
    "# Map weights for the first principal component to corresponding feature names\n",
    "# and then print the linked values, sorted by weight.\n",
    "# HINT: Try defining a function here or in a new cell that you can reuse in the\n",
    "# other cells.\n",
    "\n",
    "def map_weights_get_features(comp, pca, df_imputed):\n",
    "    feature = df_imputed.columns[np.abs(pca.components_[comp]).argmax()]\n",
    "    values = sorted(pca.components_[comp])\n",
    "    return feature, values\n",
    "\n",
    "def pca_features_weights(pca, comp):\n",
    "    df_weights = pd.DataFrame(pca.components_, columns=list(df_imputed.columns))\n",
    "    feature_values = df_weights.iloc[comp].sort_values(ascending=False)\n",
    "    return feature_values\n",
    "\n",
    "print(pca_features_weights(pca, 0))"
   ]
  },
  {
   "cell_type": "code",
   "execution_count": 68,
   "metadata": {},
   "outputs": [
    {
     "name": "stdout",
     "output_type": "stream",
     "text": [
      "ALTERSKATEGORIE_GROB    0.266361\n",
      "SEMIO_ERL               0.256038\n",
      "FINANZ_VORSORGER        0.229949\n",
      "SEMIO_LUST              0.185643\n",
      "RETOURTYP_BK_S          0.159307\n",
      "Name: 1, dtype: float64\n"
     ]
    }
   ],
   "source": [
    "# Map weights for the second principal component to corresponding feature names\n",
    "# and then print the linked values, sorted by weight.\n",
    "\n",
    "print(pca_features_weights(pca, 1)[:5])\n"
   ]
  },
  {
   "cell_type": "code",
   "execution_count": 69,
   "metadata": {},
   "outputs": [
    {
     "name": "stdout",
     "output_type": "stream",
     "text": [
      "SEMIO_VERT           0.340521\n",
      "SEMIO_SOZ            0.251654\n",
      "SEMIO_FAM            0.227074\n",
      "SEMIO_KULT           0.206074\n",
      "FINANZ_MINIMALIST    0.166302\n",
      "Name: 2, dtype: float64\n"
     ]
    }
   ],
   "source": [
    "# Map weights for the third principal component to corresponding feature names\n",
    "# and then print the linked values, sorted by weight.\n",
    "\n",
    "print(pca_features_weights(pca, 2)[:5])\n"
   ]
  },
  {
   "cell_type": "markdown",
   "metadata": {},
   "source": [
    "### Discussion 2.3: Interpret Principal Components\n",
    "\n",
    "From the 1st principle component, PLZ8_ANTG3 and PLZ8_ANTG4 (the top two positives) have positive correlation between them such that if there is are more Number of 6 to 10 family houses then there are more 10+ family houses as well.  \n",
    "Also, PLZ8_ANTG3 and MOBI_REGIO have negative correlation between them which can be interpreted in a way that if there are more number of 6 to 10 family house then there are less movement trends."
   ]
  },
  {
   "cell_type": "markdown",
   "metadata": {},
   "source": [
    "## Step 3: Clustering\n",
    "\n",
    "### Step 3.1: Apply Clustering to General Population\n",
    "\n",
    "You've assessed and cleaned the demographics data, then scaled and transformed them. Now, it's time to see how the data clusters in the principal components space. In this substep, you will apply k-means clustering to the dataset and use the average within-cluster distances from each point to their assigned cluster's centroid to decide on a number of clusters to keep.\n",
    "\n",
    "- Use sklearn's [KMeans](http://scikit-learn.org/stable/modules/generated/sklearn.cluster.KMeans.html#sklearn.cluster.KMeans) class to perform k-means clustering on the PCA-transformed data.\n",
    "- Then, compute the average difference from each point to its assigned cluster's center. **Hint**: The KMeans object's `.score()` method might be useful here, but note that in sklearn, scores tend to be defined so that larger is better. Try applying it to a small, toy dataset, or use an internet search to help your understanding.\n",
    "- Perform the above two steps for a number of different cluster counts. You can then see how the average distance decreases with an increasing number of clusters. However, each additional cluster provides a smaller net benefit. Use this fact to select a final number of clusters in which to group the data. **Warning**: because of the large size of the dataset, it can take a long time for the algorithm to resolve. The more clusters to fit, the longer the algorithm will take. You should test for cluster counts through at least 10 clusters to get the full picture, but you shouldn't need to test for a number of clusters above about 30.\n",
    "- Once you've selected a final number of clusters to use, re-fit a KMeans instance to perform the clustering operation. Make sure that you also obtain the cluster assignments for the general demographics data, since you'll be using them in the final Step 3.3."
   ]
  },
  {
   "cell_type": "code",
   "execution_count": 95,
   "metadata": {},
   "outputs": [],
   "source": [
    "from mpl_toolkits.mplot3d import Axes3D\n",
    "from sklearn.cluster import KMeans\n",
    "from sklearn.datasets import make_blobs\n",
    "\n",
    "def fit_kmeans(data, centers):\n",
    "    '''\n",
    "    INPUT:\n",
    "        data = the dataset you would like to fit kmeans to (dataframe)\n",
    "        centers = the number of centroids (int)\n",
    "    OUTPUT:\n",
    "        labels - the labels for each datapoint to which group it belongs (nparray)\n",
    "    \n",
    "    '''\n",
    "    kmeans = KMeans(centers)\n",
    "    model = kmeans.fit(data)\n",
    "    labels = model.predict(data)\n",
    "    return labels, model\n"
   ]
  },
  {
   "cell_type": "code",
   "execution_count": 96,
   "metadata": {},
   "outputs": [],
   "source": [
    "def get_kmeans_score(data, center):\n",
    "    '''\n",
    "    returns the kmeans score regarding SSE for points to centers\n",
    "    INPUT:\n",
    "        data - the dataset you want to fit kmeans to\n",
    "        center - the number of centers you want (the k value)\n",
    "    OUTPUT:\n",
    "        score - the SSE score for the kmeans model fit to the data\n",
    "    '''\n",
    "    #instantiate kmeans\n",
    "    kmeans = KMeans(n_clusters=center)\n",
    "\n",
    "    # Then fit the model to your data using the fit method\n",
    "    model = kmeans.fit(data)\n",
    "    \n",
    "    # Obtain a score related to the model fit\n",
    "    score = np.abs(model.score(data))\n",
    "    \n",
    "    return score\n",
    "\n"
   ]
  },
  {
   "cell_type": "code",
   "execution_count": 97,
   "metadata": {},
   "outputs": [
    {
     "name": "stdout",
     "output_type": "stream",
     "text": [
      "in progress\n",
      "in progress\n",
      "in progress\n"
     ]
    },
    {
     "data": {
      "image/png": "[encoded data removed]",
      "text/plain": [
       "<matplotlib.figure.Figure at 0x7f97b0fcaf28>"
      ]
     },
     "metadata": {
      "needs_background": "light"
     },
     "output_type": "display_data"
    }
   ],
   "source": [
    "# Over a number of different cluster counts...\n",
    "\n",
    "#centers = [10, 15, 20, 25, 30]\n",
    "centers = [10, 15, 22]\n",
    "\n",
    "scores = []\n",
    "\n",
    "# run k-means clustering on the data and...\n",
    "# compute the average within-cluster distances.\n",
    "\n",
    "\n",
    "for center in centers:\n",
    "    scores.append(get_kmeans_score(df_pca, center))\n",
    "    print('in progress')\n",
    "\n",
    "    \n",
    "# Investigate the change in within-cluster distance across number of clusters.\n",
    "# HINT: Use matplotlib's plot function to visualize this relationship.\n",
    "\n",
    "plt.plot(centers, scores, linestyle='--', marker='o', color='b');\n",
    "plt.xlabel('K');\n",
    "plt.ylabel('SSE');\n",
    "plt.title('SSE vs. K');"
   ]
  },
  {
   "cell_type": "code",
   "execution_count": 98,
   "metadata": {},
   "outputs": [
    {
     "data": {
      "image/png": "[encoded data removed]",
      "text/plain": [
       "<matplotlib.figure.Figure at 0x7f97a9855da0>"
      ]
     },
     "metadata": {
      "needs_background": "light"
     },
     "output_type": "display_data"
    }
   ],
   "source": [
    "# Re-fit the k-means model with the selected number of clusters and obtain\n",
    "# cluster predictions for the general population demographics data.\n",
    "\n",
    "labels, model = fit_kmeans(df_pca, 15) #fit kmeans to get the labels\n",
    "    \n",
    "\n",
    "def plot_data(data, labels):\n",
    "    '''\n",
    "    Plot data with colors associated with labels\n",
    "    '''\n",
    "    fig = plt.figure();\n",
    "    ax = Axes3D(fig)\n",
    "    ax.scatter(data[:, 0], data[:, 1], data[:, 2], c=labels, cmap='tab10');\n",
    "\n",
    "# Plot the original data with clusters\n",
    "plot_data(df_pca, labels)"
   ]
  },
  {
   "cell_type": "markdown",
   "metadata": {},
   "source": [
    "### Discussion 3.1: Apply Clustering to General Population\n",
    "\n",
    "The shape of elbow does not really give a clear sign about what K value to be choosen but k = 15 and 20 provides nicely diffrenciable clusters. k = 15 is considered for further analysis."
   ]
  },
  {
   "cell_type": "markdown",
   "metadata": {},
   "source": [
    "### Step 3.2: Apply All Steps to the Customer Data\n",
    "\n",
    "Now that you have clusters and cluster centers for the general population, it's time to see how the customer data maps on to those clusters. Take care to not confuse this for re-fitting all of the models to the customer data. Instead, you're going to use the fits from the general population to clean, transform, and cluster the customer data. In the last step of the project, you will interpret how the general population fits apply to the customer data.\n",
    "\n",
    "- Don't forget when loading in the customers data, that it is semicolon (`;`) delimited.\n",
    "- Apply the same feature wrangling, selection, and engineering steps to the customer demographics using the `clean_data()` function you created earlier. (You can assume that the customer demographics data has similar meaning behind missing data patterns as the general demographics data.)\n",
    "- Use the sklearn objects from the general demographics data, and apply their transformations to the customers data. That is, you should not be using a `.fit()` or `.fit_transform()` method to re-fit the old objects, nor should you be creating new sklearn objects! Carry the data through the feature scaling, PCA, and clustering steps, obtaining cluster assignments for all of the data in the customer demographics data."
   ]
  },
  {
   "cell_type": "code",
   "execution_count": 32,
   "metadata": {},
   "outputs": [
    {
     "data": {
      "text/plain": [
       "(191652, 85)"
      ]
     },
     "execution_count": 32,
     "metadata": {},
     "output_type": "execute_result"
    }
   ],
   "source": [
    "# Load in the customer demographics data.\n",
    " \n",
    "customers = pd.read_csv('Udacity_CUSTOMERS_Subset.csv', delimiter=';')\n",
    "customers.shape"
   ]
  },
  {
   "cell_type": "code",
   "execution_count": 33,
   "metadata": {},
   "outputs": [
    {
     "name": "stdout",
     "output_type": "stream",
     "text": [
      "[] 0\n",
      "Nan in row  0  :  4\n",
      "Nan in row  150000  :  6\n",
      "non-numeric binary - needs re-encoding:\n",
      " W    120104\n",
      "O     10369\n",
      "Name: OST_WEST_KZ, dtype: int64\n",
      "binary: ['ANREDE_KZ', 'GREEN_AVANTGARDE', 'SOHO_KZ', 'VERS_TYP'] 4\n",
      "multi_level:  ['AGER_TYP', 'CJT_GESAMTTYP', 'FINANZTYP', 'GFK_URLAUBERTYP', 'LP_FAMILIE_FEIN', 'LP_FAMILIE_GROB', 'LP_STATUS_FEIN', 'LP_STATUS_GROB', 'NATIONALITAET_KZ', 'SHOPPER_TYP', 'TITEL_KZ', 'ZABEOTYP', 'KK_KUNDENTYP', 'GEBAEUDETYP', 'CAMEO_DEUG_2015', 'CAMEO_DEU_2015'] 16\n",
      "reencoded:  ['OST_WEST_KZ'] 1\n"
     ]
    },
    {
     "name": "stderr",
     "output_type": "stream",
     "text": [
      "/opt/conda/lib/python3.6/site-packages/pandas/core/frame.py:3697: SettingWithCopyWarning: \n",
      "A value is trying to be set on a copy of a slice from a DataFrame\n",
      "\n",
      "See the caveats in the documentation: http://pandas.pydata.org/pandas-docs/stable/indexing.html#indexing-view-versus-copy\n",
      "  errors=errors)\n",
      "/opt/conda/lib/python3.6/site-packages/ipykernel_launcher.py:103: SettingWithCopyWarning: \n",
      "A value is trying to be set on a copy of a slice from a DataFrame.\n",
      "Try using .loc[row_indexer,col_indexer] = value instead\n",
      "\n",
      "See the caveats in the documentation: http://pandas.pydata.org/pandas-docs/stable/indexing.html#indexing-view-versus-copy\n",
      "/opt/conda/lib/python3.6/site-packages/ipykernel_launcher.py:154: SettingWithCopyWarning: \n",
      "A value is trying to be set on a copy of a slice from a DataFrame.\n",
      "Try using .loc[row_indexer,col_indexer] = value instead\n",
      "\n",
      "See the caveats in the documentation: http://pandas.pydata.org/pandas-docs/stable/indexing.html#indexing-view-versus-copy\n",
      "/opt/conda/lib/python3.6/site-packages/ipykernel_launcher.py:155: SettingWithCopyWarning: \n",
      "A value is trying to be set on a copy of a slice from a DataFrame.\n",
      "Try using .loc[row_indexer,col_indexer] = value instead\n",
      "\n",
      "See the caveats in the documentation: http://pandas.pydata.org/pandas-docs/stable/indexing.html#indexing-view-versus-copy\n",
      "/opt/conda/lib/python3.6/site-packages/ipykernel_launcher.py:156: SettingWithCopyWarning: \n",
      "A value is trying to be set on a copy of a slice from a DataFrame.\n",
      "Try using .loc[row_indexer,col_indexer] = value instead\n",
      "\n",
      "See the caveats in the documentation: http://pandas.pydata.org/pandas-docs/stable/indexing.html#indexing-view-versus-copy\n",
      "/opt/conda/lib/python3.6/site-packages/ipykernel_launcher.py:157: SettingWithCopyWarning: \n",
      "A value is trying to be set on a copy of a slice from a DataFrame.\n",
      "Try using .loc[row_indexer,col_indexer] = value instead\n",
      "\n",
      "See the caveats in the documentation: http://pandas.pydata.org/pandas-docs/stable/indexing.html#indexing-view-versus-copy\n"
     ]
    },
    {
     "data": {
      "image/png": "[encoded data removed]",
      "text/plain": [
       "<matplotlib.figure.Figure at 0x7f97b0b0a198>"
      ]
     },
     "metadata": {
      "needs_background": "light"
     },
     "output_type": "display_data"
    }
   ],
   "source": [
    "# Apply preprocessing, feature transformation, and clustering from the general\n",
    "# demographics onto the customer data, obtaining cluster predictions for the\n",
    "# customer demographics data.\n",
    "\n",
    "df_cust = clean_data(customers)\n",
    "\n",
    "imputer, df_cust_impute = do_impute(df_cust)\n",
    "\n",
    "scaler, df_cust_scaled = do_scaling(df_cust_impute)\n",
    "\n",
    "pca_cust, df_cust_pca = do_pca(40, df_cust_scaled)\n",
    "\n",
    "labels_cust, model_cust = fit_kmeans(df_cust_pca, 15) #fit kmeans to get the labels\n",
    "\n",
    "plot_data(df_cust_pca, labels_cust)\n",
    "\n",
    "\n"
   ]
  },
  {
   "cell_type": "markdown",
   "metadata": {},
   "source": [
    "### Step 3.3: Compare Customer Data to Demographics Data\n",
    "\n",
    "At this point, you have clustered data based on demographics of the general population of Germany, and seen how the customer data for a mail-order sales company maps onto those demographic clusters. In this final substep, you will compare the two cluster distributions to see where the strongest customer base for the company is.\n",
    "\n",
    "Consider the proportion of persons in each cluster for the general population, and the proportions for the customers. If we think the company's customer base to be universal, then the cluster assignment proportions should be fairly similar between the two. If there are only particular segments of the population that are interested in the company's products, then we should see a mismatch from one to the other. If there is a higher proportion of persons in a cluster for the customer data compared to the general population (e.g. 5% of persons are assigned to a cluster for the general population, but 15% of the customer data is closest to that cluster's centroid) then that suggests the people in that cluster to be a target audience for the company. On the other hand, the proportion of the data in a cluster being larger in the general population than the customer data (e.g. only 2% of customers closest to a population centroid that captures 6% of the data) suggests that group of persons to be outside of the target demographics.\n",
    "\n",
    "Take a look at the following points in this step:\n",
    "\n",
    "- Compute the proportion of data points in each cluster for the general population and the customer data. Visualizations will be useful here: both for the individual dataset proportions, but also to visualize the ratios in cluster representation between groups. Seaborn's [`countplot()`](https://seaborn.pydata.org/generated/seaborn.countplot.html) or [`barplot()`](https://seaborn.pydata.org/generated/seaborn.barplot.html) function could be handy.\n",
    "  - Recall the analysis you performed in step 1.1.3 of the project, where you separated out certain data points from the dataset if they had more than a specified threshold of missing values. If you found that this group was qualitatively different from the main bulk of the data, you should treat this as an additional data cluster in this analysis. Make sure that you account for the number of data points in this subset, for both the general population and customer datasets, when making your computations!\n",
    "- Which cluster or clusters are overrepresented in the customer dataset compared to the general population? Select at least one such cluster and infer what kind of people might be represented by that cluster. Use the principal component interpretations from step 2.3 or look at additional components to help you make this inference. Alternatively, you can use the `.inverse_transform()` method of the PCA and StandardScaler objects to transform centroids back to the original data space and interpret the retrieved values directly.\n",
    "- Perform a similar investigation for the underrepresented clusters. Which cluster or clusters are underrepresented in the customer dataset compared to the general population, and what kinds of people are typified by these clusters?"
   ]
  },
  {
   "cell_type": "code",
   "execution_count": 99,
   "metadata": {},
   "outputs": [
    {
     "data": {
      "text/plain": [
       "Text(0.5,1,'Customers')"
      ]
     },
     "execution_count": 99,
     "metadata": {},
     "output_type": "execute_result"
    },
    {
     "data": {
      "image/png": "[encoded data removed]",
      "text/plain": [
       "<matplotlib.figure.Figure at 0x7f97a9819ef0>"
      ]
     },
     "metadata": {
      "needs_background": "light"
     },
     "output_type": "display_data"
    }
   ],
   "source": [
    "# Compare the proportion of data in each cluster for the customer data to the\n",
    "# proportion of data in each cluster for the general population.\n",
    "\n",
    "fig, axis = plt.subplots(figsize = (12,5), nrows=1, ncols=2)\n",
    "sns.countplot(labels, ax = axis[0])\n",
    "sns.countplot(labels_cust, ax = axis[1])\n",
    "axis[0].set_title('General Population')\n",
    "axis[1].set_title('Customers')"
   ]
  },
  {
   "cell_type": "code",
   "execution_count": 103,
   "metadata": {},
   "outputs": [],
   "source": [
    "# What kinds of people are part of a cluster that is overrepresented in the\n",
    "# customer data compared to the general population?\n",
    "\n",
    "centroid_over = scaler.inverse_transform(pca_cust.inverse_transform(model_cust.cluster_centers_[9]))"
   ]
  },
  {
   "cell_type": "code",
   "execution_count": 104,
   "metadata": {},
   "outputs": [
    {
     "name": "stdout",
     "output_type": "stream",
     "text": [
      "ALTERSKATEGORIE_GROB        3.785550\n",
      "ANREDE_KZ                   1.930081\n",
      "FINANZ_MINIMALIST           4.163030\n",
      "FINANZ_SPARER               1.083554\n",
      "FINANZ_VORSORGER            4.905172\n",
      "FINANZ_ANLEGER              1.919575\n",
      "FINANZ_UNAUFFAELLIGER       1.449561\n",
      "FINANZ_HAUSBAUER            3.207300\n",
      "GEBURTSJAHR              1943.200988\n",
      "GREEN_AVANTGARDE            0.171028\n",
      "dtype: float64\n"
     ]
    }
   ],
   "source": [
    "customers_over = pd.Series(data = centroid_over, index = df_cust.columns)\n",
    "print(customers_over[:10])"
   ]
  },
  {
   "cell_type": "code",
   "execution_count": 105,
   "metadata": {},
   "outputs": [
    {
     "name": "stdout",
     "output_type": "stream",
     "text": [
      "ALTERSKATEGORIE_GROB        3.726881\n",
      "ANREDE_KZ                   1.489448\n",
      "FINANZ_MINIMALIST           2.691153\n",
      "FINANZ_SPARER               1.088263\n",
      "FINANZ_VORSORGER            4.857770\n",
      "FINANZ_ANLEGER              1.083527\n",
      "FINANZ_UNAUFFAELLIGER       1.105980\n",
      "FINANZ_HAUSBAUER            4.504756\n",
      "GEBURTSJAHR              1936.375315\n",
      "GREEN_AVANTGARDE            0.193766\n",
      "dtype: float64\n"
     ]
    }
   ],
   "source": [
    "# What kinds of people are part of a cluster that is underrepresented in the\n",
    "# customer data compared to the general population?\n",
    "centroid_under = scaler.inverse_transform(pca_cust.inverse_transform(model_cust.cluster_centers_[13]))\n",
    "customers_under = pd.Series(data = centroid_under, index = df_cust.columns)\n",
    "print(customers_under[:10])"
   ]
  },
  {
   "cell_type": "markdown",
   "metadata": {},
   "source": [
    "### Discussion 3.3: Compare Customer Data to Demographics Data\n",
    "\n",
    "\n",
    "#### Overrepresented: Cluster 9\n",
    "Main segments of the population which are overrepresented:  \n",
    "\n",
    "    - People who are 46 - 60 years old (ALTERSKATEGORIE_GROB -> 3.78)\n",
    "    - People with low financial interest (FINANZ_MINIMALIST -> 4.16)\n",
    "\n",
    "#### Underrepresented: Cluster 13\n",
    "Main segments of the population which are underrepresented:  \n",
    "\n",
    "    - People who are 46 - 60 years old (ALTERSKATEGORIE_GROB -> 3.72)\n",
    "    - People with low financial interest (FINANZ_MINIMALIST -> 2.69)\n"
   ]
  },
  {
   "cell_type": "markdown",
   "metadata": {},
   "source": [
    "> Congratulations on making it this far in the project! Before you finish, make sure to check through the entire notebook from top to bottom to make sure that your analysis follows a logical flow and all of your findings are documented in **Discussion** cells. Once you've checked over all of your work, you should export the notebook as an HTML document to submit for evaluation. You can do this from the menu, navigating to **File -> Download as -> HTML (.html)**. You will submit both that document and this notebook for your project submission."
   ]
  },
  {
   "cell_type": "code",
   "execution_count": null,
   "metadata": {},
   "outputs": [],
   "source": []
  }
 ],
 "metadata": {
  "kernelspec": {
   "display_name": "Python 3",
   "language": "python",
   "name": "python3"
  },
  "language_info": {
   "codemirror_mode": {
    "name": "ipython",
    "version": 3
   },
   "file_extension": ".py",
   "mimetype": "text/x-python",
   "name": "python",
   "nbconvert_exporter": "python",
   "pygments_lexer": "ipython3",
   "version": "3.6.3"
  }
 },
 "nbformat": 4,
 "nbformat_minor": 2
}
